{
 "cells": [
  {
   "cell_type": "markdown",
   "metadata": {},
   "source": [
    "과제 #1은 IRIS 데이터를 아래와 같이 불러와서    \n",
    "간단한 전처리(스케일링 등)와 EDA를 하고,     \n",
    "'#1_참고자료.html'을 참고하여 KNN에 GridSearchCV를 적용해보는 과제입니다!   \n",
    "그리고 BestParameter와 BestScore, TestsetScore를 구합니다."
   ]
  },
  {
   "cell_type": "markdown",
   "metadata": {},
   "source": [
    "# KNN - IRIS DATA"
   ]
  },
  {
   "cell_type": "code",
   "execution_count": 1,
   "metadata": {},
   "outputs": [],
   "source": [
    "import numpy as np\n",
    "import pandas as pd\n",
    "import seaborn as sns\n",
    "import matplotlib.pyplot as plt\n",
    "\n",
    "from sklearn.datasets import load_iris\n",
    "from sklearn.model_selection import train_test_split \n",
    "from sklearn.neighbors import KNeighborsClassifier"
   ]
  },
  {
   "cell_type": "code",
   "execution_count": 2,
   "metadata": {},
   "outputs": [],
   "source": [
    "# 그래프 한글 깨짐 방지 폰트 설정\n",
    "plt.rc('font', family='Malgun Gothic')\n",
    "plt.rc('axes', unicode_minus=False)"
   ]
  },
  {
   "cell_type": "markdown",
   "metadata": {},
   "source": [
    "## DATA LOAD"
   ]
  },
  {
   "cell_type": "code",
   "execution_count": 3,
   "metadata": {},
   "outputs": [],
   "source": [
    "# 아이리스 데이터 불러오기\n",
    "iris = load_iris() #iris 데이터를 dict 형식으로 불러옴."
   ]
  },
  {
   "cell_type": "code",
   "execution_count": 4,
   "metadata": {},
   "outputs": [],
   "source": [
    "#iris 데이터의 feature 부분과 label 부분을 분리\n",
    "X = iris.data\n",
    "y = iris.target"
   ]
  },
  {
   "cell_type": "markdown",
   "metadata": {},
   "source": [
    "- About data : https://www.kaggle.com/uciml/iris"
   ]
  },
  {
   "cell_type": "markdown",
   "metadata": {},
   "source": [
    "## SCAILING"
   ]
  },
  {
   "cell_type": "markdown",
   "metadata": {},
   "source": [
    "- 거리 기반의 모델을 이용할 때에는 데이터의 스케일링이 필수!  \n",
    "- 가장 기본인 StandardScaler를 이용합니다"
   ]
  },
  {
   "cell_type": "code",
   "execution_count": 5,
   "metadata": {},
   "outputs": [],
   "source": [
    "from sklearn.preprocessing import StandardScaler\n",
    "scaler = StandardScaler()\n",
    "X = scaler.fit_transform(X)"
   ]
  },
  {
   "cell_type": "code",
   "execution_count": 6,
   "metadata": {},
   "outputs": [
    {
     "data": {
      "text/html": [
       "<div>\n",
       "<style scoped>\n",
       "    .dataframe tbody tr th:only-of-type {\n",
       "        vertical-align: middle;\n",
       "    }\n",
       "\n",
       "    .dataframe tbody tr th {\n",
       "        vertical-align: top;\n",
       "    }\n",
       "\n",
       "    .dataframe thead th {\n",
       "        text-align: right;\n",
       "    }\n",
       "</style>\n",
       "<table border=\"1\" class=\"dataframe\">\n",
       "  <thead>\n",
       "    <tr style=\"text-align: right;\">\n",
       "      <th></th>\n",
       "      <th>sepal length (cm)</th>\n",
       "      <th>sepal width (cm)</th>\n",
       "      <th>petal length (cm)</th>\n",
       "      <th>petal width (cm)</th>\n",
       "    </tr>\n",
       "  </thead>\n",
       "  <tbody>\n",
       "    <tr>\n",
       "      <td>0</td>\n",
       "      <td>-0.900681</td>\n",
       "      <td>1.019004</td>\n",
       "      <td>-1.340227</td>\n",
       "      <td>-1.315444</td>\n",
       "    </tr>\n",
       "    <tr>\n",
       "      <td>1</td>\n",
       "      <td>-1.143017</td>\n",
       "      <td>-0.131979</td>\n",
       "      <td>-1.340227</td>\n",
       "      <td>-1.315444</td>\n",
       "    </tr>\n",
       "    <tr>\n",
       "      <td>2</td>\n",
       "      <td>-1.385353</td>\n",
       "      <td>0.328414</td>\n",
       "      <td>-1.397064</td>\n",
       "      <td>-1.315444</td>\n",
       "    </tr>\n",
       "    <tr>\n",
       "      <td>3</td>\n",
       "      <td>-1.506521</td>\n",
       "      <td>0.098217</td>\n",
       "      <td>-1.283389</td>\n",
       "      <td>-1.315444</td>\n",
       "    </tr>\n",
       "    <tr>\n",
       "      <td>4</td>\n",
       "      <td>-1.021849</td>\n",
       "      <td>1.249201</td>\n",
       "      <td>-1.340227</td>\n",
       "      <td>-1.315444</td>\n",
       "    </tr>\n",
       "  </tbody>\n",
       "</table>\n",
       "</div>"
      ],
      "text/plain": [
       "   sepal length (cm)  sepal width (cm)  petal length (cm)  petal width (cm)\n",
       "0          -0.900681          1.019004          -1.340227         -1.315444\n",
       "1          -1.143017         -0.131979          -1.340227         -1.315444\n",
       "2          -1.385353          0.328414          -1.397064         -1.315444\n",
       "3          -1.506521          0.098217          -1.283389         -1.315444\n",
       "4          -1.021849          1.249201          -1.340227         -1.315444"
      ]
     },
     "execution_count": 6,
     "metadata": {},
     "output_type": "execute_result"
    }
   ],
   "source": [
    "#feature를 데이터 프레임 형태로 변환\n",
    "X_df = pd.DataFrame(X, columns = iris['feature_names'])\n",
    "X_df.head()"
   ]
  },
  {
   "cell_type": "markdown",
   "metadata": {},
   "source": [
    "# 1. Preprocessing & EDA\n",
    "붖꽃 데이터 iris는 어떤 형태로 이루어져 있는지 봅시다"
   ]
  },
  {
   "cell_type": "code",
   "execution_count": 7,
   "metadata": {},
   "outputs": [
    {
     "data": {
      "text/plain": [
       "dict_keys(['data', 'target', 'target_names', 'DESCR', 'feature_names', 'filename'])"
      ]
     },
     "execution_count": 7,
     "metadata": {},
     "output_type": "execute_result"
    }
   ],
   "source": [
    "iris.keys()"
   ]
  },
  {
   "cell_type": "code",
   "execution_count": 8,
   "metadata": {},
   "outputs": [
    {
     "data": {
      "text/plain": [
       "['sepal length (cm)',\n",
       " 'sepal width (cm)',\n",
       " 'petal length (cm)',\n",
       " 'petal width (cm)']"
      ]
     },
     "execution_count": 8,
     "metadata": {},
     "output_type": "execute_result"
    }
   ],
   "source": [
    "iris['data'] \n",
    "#각 꽃의 feature에 대한 값들\n",
    "iris['feature_names']\n",
    "#각 데이터들의 의미, sepal은 꽃받침, petal은 꽃잎이며 각각 이에 대한 길이와 넓이를 나타냄."
   ]
  },
  {
   "cell_type": "code",
   "execution_count": 9,
   "metadata": {},
   "outputs": [
    {
     "data": {
      "text/plain": [
       "array(['setosa', 'versicolor', 'virginica'], dtype='<U10')"
      ]
     },
     "execution_count": 9,
     "metadata": {},
     "output_type": "execute_result"
    }
   ],
   "source": [
    "iris['target'] \n",
    "#target 변수, 즉 label에 대한 정보가 담겨져 있음.\n",
    "iris['target_names'] \n",
    "#target의 0은 setosa를, 1은 Versicolor를, 2는 Virginica를 의미함."
   ]
  },
  {
   "cell_type": "markdown",
   "metadata": {},
   "source": [
    "- 꽃받침과 꽃잎의 너비, 길이로 구성되어 있는 feature가 있고 총 세 가지의 종으로 분류되어 있는 데이터 입니다.\n",
    "- feature들은 어떻게 구성되어 있는지 보겠습니다"
   ]
  },
  {
   "cell_type": "code",
   "execution_count": 12,
   "metadata": {},
   "outputs": [
    {
     "data": {
      "image/png": "[encoded data removed]",
      "text/plain": [
       "<Figure size 432x288 with 4 Axes>"
      ]
     },
     "metadata": {
      "needs_background": "light"
     },
     "output_type": "display_data"
    }
   ],
   "source": [
    "plt.subplot(2,2,1)\n",
    "sns.boxplot(y, X_df['sepal length (cm)'])\n",
    "\n",
    "plt.subplot(2,2,2)\n",
    "sns.boxplot(y, X_df['sepal width (cm)'])\n",
    "\n",
    "plt.subplot(2,2,3)\n",
    "sns.boxplot(y, X_df['petal length (cm)'])\n",
    "\n",
    "plt.subplot(2,2,4)\n",
    "sns.boxplot(y, X_df['petal width (cm)'])\n",
    "\n",
    "plt.tight_layout()\n",
    "plt.show()"
   ]
  },
  {
   "cell_type": "markdown",
   "metadata": {},
   "source": [
    "종 마다 feature 별로 특징이 두드러지나 sepal width의 경우에는 좀 애매합니다  \n",
    "어떤 식으로 분포하고 있는 지 알아보기 위해 산점도를 이용해 시각화 해보겠습니다  \n",
    "([이곳](http://theyoonicon.com/scikit-learn%EC%9D%98-iris-%EB%8D%B0%EC%9D%B4%ED%84%B0%EC%85%8B-%EB%B6%84%EB%A5%98%ED%95%98%EA%B8%B0/)을 참고하였습니다)\n"
   ]
  },
  {
   "cell_type": "code",
   "execution_count": 16,
   "metadata": {},
   "outputs": [
    {
     "data": {
      "image/png": "[encoded data removed]",
      "text/plain": [
       "<Figure size 432x288 with 1 Axes>"
      ]
     },
     "metadata": {
      "needs_background": "light"
     },
     "output_type": "display_data"
    }
   ],
   "source": [
    "#종 별 sepal length / width에 따른 2차원 산점도 그리기\n",
    "for target in range(3):\n",
    "    if target == 0: #종이 setosa인 경우 red\n",
    "        c='r'\n",
    "        marker='>'\n",
    "    elif target == 1: #종이 versicolor인 경우 green\n",
    "        c='g'\n",
    "        marker='o'\n",
    "    elif target == 2: #종이 virginica인 경우 blue\n",
    "        c='b'\n",
    "        marker='x'\n",
    "\n",
    "    plt.scatter(X[y == target, 0], # sepal length\n",
    "                X[y == target, 1], # sepal width\n",
    "                marker = marker, c = c)\n",
    "    plt.xlabel(\"sepal length\")\n",
    "    plt.ylabel(\"sepal width\")"
   ]
  },
  {
   "cell_type": "code",
   "execution_count": 18,
   "metadata": {},
   "outputs": [
    {
     "data": {
      "image/png": "[encoded data removed]",
      "text/plain": [
       "<Figure size 432x288 with 1 Axes>"
      ]
     },
     "metadata": {
      "needs_background": "light"
     },
     "output_type": "display_data"
    }
   ],
   "source": [
    "#종 별 petal length / width에 따른 2차원 산점도 그리기\n",
    "for target in range(3):\n",
    "    if target == 0: #종이 setosa인 경우 red\n",
    "        c='r'\n",
    "        marker='>'\n",
    "    elif target == 1: #종이 versicolor인 경우 green\n",
    "        c='g'\n",
    "        marker='o'\n",
    "    elif target == 2: #종이 virginica인 경우 blue\n",
    "        c='b'\n",
    "        marker='x'\n",
    "\n",
    "    plt.scatter(X[y == target, 2], # petal length\n",
    "                X[y == target, 3], # petal width\n",
    "                marker = marker, c = c)\n",
    "    plt.xlabel(\"petal length\")\n",
    "    plt.ylabel(\"petal width\")"
   ]
  },
  {
   "cell_type": "markdown",
   "metadata": {},
   "source": [
    "petal로는 육안으로 보아도 구분이 확실히 됩니다. 따라서 sepal, 즉 꽃받침의 너비가 요주의 변수겠네요"
   ]
  },
  {
   "cell_type": "markdown",
   "metadata": {},
   "source": [
    "--------------------------------------------------------------------------------------\n",
    "# 2. Modeling\n"
   ]
  },
  {
   "cell_type": "markdown",
   "metadata": {},
   "source": [
    "## 2-1. KNN\n",
    "KNN모델을 생성하고 train set을 fit 시켜봅시다"
   ]
  },
  {
   "cell_type": "code",
   "execution_count": 20,
   "metadata": {},
   "outputs": [],
   "source": [
    "# Train, Test 셋 나누기 - 80대 20으로 나눔.\n",
    "X_train, X_test, y_train, y_test = train_test_split(X, y, test_size = 0.2, random_state=77)"
   ]
  },
  {
   "cell_type": "markdown",
   "metadata": {},
   "source": [
    "- Documentation for \"KNeighborsClassifier\" : https://scikit-learn.org/stable/modules/generated/sklearn.neighbors.KNeighborsClassifier.html"
   ]
  },
  {
   "cell_type": "code",
   "execution_count": 21,
   "metadata": {},
   "outputs": [],
   "source": [
    "# build KNN model (k = 3) KNN 모델을 생성하고 하이퍼파라미터 k를 3으로 지정\n",
    "knn = KNeighborsClassifier(n_neighbors = 3)"
   ]
  },
  {
   "cell_type": "code",
   "execution_count": 22,
   "metadata": {},
   "outputs": [
    {
     "data": {
      "text/plain": [
       "KNeighborsClassifier(algorithm='auto', leaf_size=30, metric='minkowski',\n",
       "                     metric_params=None, n_jobs=None, n_neighbors=3, p=2,\n",
       "                     weights='uniform')"
      ]
     },
     "execution_count": 22,
     "metadata": {},
     "output_type": "execute_result"
    }
   ],
   "source": [
    "# train the model 생성한 KNN모델에 train 데이터 셋을 fit 시켜 모델 학습\n",
    "knn.fit(X_train, y_train)"
   ]
  },
  {
   "cell_type": "code",
   "execution_count": 23,
   "metadata": {},
   "outputs": [],
   "source": [
    "# get the predict value(y_pred) from X_test #학습한 데이터를 바탕으로 X_test에 대한 예측값 y_pred생성\n",
    "y_pred = knn.predict(X_test)"
   ]
  },
  {
   "cell_type": "code",
   "execution_count": 24,
   "metadata": {},
   "outputs": [
    {
     "name": "stdout",
     "output_type": "stream",
     "text": [
      "accuracy:  0.8333333333333334\n"
     ]
    }
   ],
   "source": [
    "# X_test를 투입시켰을 때의 y_pred값과 y_test의 값을 비교하여 mean accurcy반환\n",
    "print('accuracy: ', knn.score(X_test, y_test))"
   ]
  },
  {
   "cell_type": "code",
   "execution_count": 29,
   "metadata": {},
   "outputs": [
    {
     "name": "stdout",
     "output_type": "stream",
     "text": [
      "accuracy:  0.8666666666666667\n"
     ]
    }
   ],
   "source": [
    "#k=5로 지정한 경우\n",
    "knn2 = KNeighborsClassifier(n_neighbors = 5)\n",
    "knn2.fit(X_train, y_train)\n",
    "y_pred = knn2.predict(X_test)\n",
    "print('accuracy: ', knn2.score(X_test, y_test))"
   ]
  },
  {
   "cell_type": "markdown",
   "metadata": {},
   "source": [
    "k=5일 때의 accuracy 값이 더 높게 나왔다. 그렇다면 더 좋은 결과를 낼 수는 없을까?"
   ]
  },
  {
   "cell_type": "markdown",
   "metadata": {},
   "source": [
    "### [참고] KNeighborsClassifier's options\n",
    "1. n_neighbors = int (default = 5)\n",
    "2. weights = str or callable (default = 'uniform')\n",
    "3. metric = string or callable (default = 'minkowski')\n",
    "\n",
    "따라서 이 결과는 \n",
    "1. n_neighbors = 3 or 5\n",
    "2. weights = uniform \n",
    "3. metric = minkowski 일 때의 score 값이라고 할 수 있다."
   ]
  },
  {
   "cell_type": "markdown",
   "metadata": {},
   "source": [
    "## 2-2 GridSearchCV\n",
    "다양한 하이퍼파라미터의 조합으로 가장 좋은 score 값을 추출하고 보다 신뢰성있는 모델 평가를 위해 교차검증을 실시해보자!\n",
    "\n",
    "1. 교차검증(k-fold-validation) : 모든 데이터 셋을 train에도 사용하고, validation set에도 사용함으로써 데이터의 수가 적은 경우나 데이터가 한쪽으로 쏠려 있는 경우에도 신뢰성 있는 모델 평가를 가능케 함.\n",
    "\n",
    "2. Validation set : 학습 과정에서 여러 가지 하이퍼 파라미터들로 생성된 모델 중 어떤 것이 성능이 좋은지 평가할 때 소모되는 데이터 셋 *Test set과 헷갈리지 말 것\n"
   ]
  },
  {
   "cell_type": "code",
   "execution_count": 33,
   "metadata": {},
   "outputs": [],
   "source": [
    "from sklearn.model_selection import GridSearchCV"
   ]
  },
  {
   "cell_type": "code",
   "execution_count": 34,
   "metadata": {},
   "outputs": [],
   "source": [
    "grid_params = {\n",
    "    'n_neighbors' : [3, 5, 11, 15], #인접한 이웃 몇 개를 볼 것인지를 결정하는 하이퍼 파라미터 k의 개수를 각각 지정\n",
    "    'weights' : ['uniform', 'distance'], #가중치 결정 방법\n",
    "    'metric' : ['euclidean', 'manhattan'] #거리계산 방식\n",
    "} #따라서 각 경우에 대해 최종 결과는 4 * 2 * 2 = 16가지의 형태로 나타날 것이다."
   ]
  },
  {
   "cell_type": "code",
   "execution_count": 37,
   "metadata": {},
   "outputs": [],
   "source": [
    "gs = GridSearchCV(\n",
    "    KNeighborsClassifier(), #KNN을 이용\n",
    "    grid_params, #위에서 설정한 파라미터를 인자로 전달\n",
    "    verbose = 1, #?\n",
    "    cv = 3, # 3-fold-cross-validation을 이용함.\n",
    "    n_jobs = -1 #?\n",
    ")"
   ]
  },
  {
   "cell_type": "code",
   "execution_count": 38,
   "metadata": {},
   "outputs": [
    {
     "name": "stdout",
     "output_type": "stream",
     "text": [
      "Fitting 3 folds for each of 16 candidates, totalling 48 fits\n"
     ]
    },
    {
     "name": "stderr",
     "output_type": "stream",
     "text": [
      "[Parallel(n_jobs=-1)]: Using backend LokyBackend with 8 concurrent workers.\n",
      "[Parallel(n_jobs=-1)]: Done  48 out of  48 | elapsed:    0.0s finished\n",
      "C:\\ProgramData\\Anaconda3\\lib\\site-packages\\sklearn\\model_selection\\_search.py:814: DeprecationWarning: The default of the `iid` parameter will change from True to False in version 0.22 and will be removed in 0.24. This will change numeric results when test-set sizes are unequal.\n",
      "  DeprecationWarning)\n"
     ]
    }
   ],
   "source": [
    "gs_results = gs.fit(X_train, y_train)\n",
    "#train 데이터 셋에 fit 시킨 결과를 gs_results에 저장함."
   ]
  },
  {
   "cell_type": "code",
   "execution_count": 40,
   "metadata": {},
   "outputs": [
    {
     "name": "stdout",
     "output_type": "stream",
     "text": [
      "Best Parameter: {'metric': 'euclidean', 'n_neighbors': 11, 'weights': 'uniform'}\n"
     ]
    }
   ],
   "source": [
    "print(\"Best Parameter: {}\".format(gs.best_params_))\n",
    "#가장 좋은 결과를 얻는 parameter는 이웃 수 (n_neighbors)가 11일 때, \n",
    "#거리 계산 방식(metric)이 유클리디안일 때, \n",
    "#가중치(weights)를 uniform 방식으로 주었을 때이다."
   ]
  },
  {
   "cell_type": "code",
   "execution_count": 42,
   "metadata": {},
   "outputs": [
    {
     "name": "stdout",
     "output_type": "stream",
     "text": [
      "Best Cross-validity Score: 0.992\n"
     ]
    }
   ],
   "source": [
    "print(\"Best Cross-validity Score: {:.3f}\".format(gs.best_score_))\n",
    "#위의 파라미터를 이용해 계산한 최종 스코어는 0.992이다."
   ]
  },
  {
   "cell_type": "code",
   "execution_count": 47,
   "metadata": {},
   "outputs": [
    {
     "name": "stdout",
     "output_type": "stream",
     "text": [
      "Test set Score: 0.867\n"
     ]
    }
   ],
   "source": [
    "print(\"Test set Score: {:.3f}\".format(gs.score(X_test, y_test)))\n",
    "#grid_search 알고리즘을 test_set에 적용시켜 나온 score값은 다음과 같다.\n",
    "#위의 이웃수를 5로 지정해 주었을 때의 값과 별반 다를 것이 없다.더 좋은 결과를 어떻게 얻을까?"
   ]
  },
  {
   "cell_type": "markdown",
   "metadata": {},
   "source": [
    "[Score 값의 비교]\n",
    "- Gridsearch의 score값은 별 다른 옵션을 지정해주지 않는 이상 estimator의 scoring 방식을 사용!\n",
    "- 따라서 위에서 knn모델을 이용해 출력한 score 값과 gridsearch에서 출력한 score값은 그 산출 방식이 같다."
   ]
  },
  {
   "cell_type": "markdown",
   "metadata": {},
   "source": [
    "## 2-3 GridSearchCV :: N_Neighbors Tuning\n",
    "위에서 교차검증으로 세 가지 하이퍼 파라미터를 튜닝해보았다면 이번에는 오로지 이웃의 개수인 n_neighbors만 세밀하게 조정해보자"
   ]
  },
  {
   "cell_type": "code",
   "execution_count": 48,
   "metadata": {},
   "outputs": [],
   "source": [
    "#GridSearch의 범위를 1에서 10까지로 지정함\n",
    "param_grid = {'n_neighbors': [1, 2, 3, 4, 5, 6, 7, 8, 9, 10]}"
   ]
  },
  {
   "cell_type": "code",
   "execution_count": 49,
   "metadata": {},
   "outputs": [],
   "source": [
    "#KNN 알고리즘에 GridSearch를 적용함\n",
    "grid_search = GridSearchCV(KNeighborsClassifier(), param_grid, cv=5, return_train_score=True)"
   ]
  },
  {
   "cell_type": "code",
   "execution_count": 50,
   "metadata": {},
   "outputs": [
    {
     "name": "stderr",
     "output_type": "stream",
     "text": [
      "C:\\ProgramData\\Anaconda3\\lib\\site-packages\\sklearn\\model_selection\\_search.py:814: DeprecationWarning: The default of the `iid` parameter will change from True to False in version 0.22 and will be removed in 0.24. This will change numeric results when test-set sizes are unequal.\n",
      "  DeprecationWarning)\n"
     ]
    },
    {
     "data": {
      "text/plain": [
       "GridSearchCV(cv=5, error_score='raise-deprecating',\n",
       "             estimator=KNeighborsClassifier(algorithm='auto', leaf_size=30,\n",
       "                                            metric='minkowski',\n",
       "                                            metric_params=None, n_jobs=None,\n",
       "                                            n_neighbors=5, p=2,\n",
       "                                            weights='uniform'),\n",
       "             iid='warn', n_jobs=None,\n",
       "             param_grid={'n_neighbors': [1, 2, 3, 4, 5, 6, 7, 8, 9, 10]},\n",
       "             pre_dispatch='2*n_jobs', refit=True, return_train_score=True,\n",
       "             scoring=None, verbose=0)"
      ]
     },
     "execution_count": 50,
     "metadata": {},
     "output_type": "execute_result"
    }
   ],
   "source": [
    "#Train 데이터에 GridSearch를 적용함\n",
    "grid_search.fit(X_train, y_train)"
   ]
  },
  {
   "cell_type": "markdown",
   "metadata": {},
   "source": [
    "다섯 번의 교차검증을 실시하는데, n_neighbors이외의 다른 파라미터값을 지정하지 않았기 때문에 default 값인 weights(uniform), metric(minkowski) 방식으로 계산된다. 이를 바탕으로 계산한 결과는 아래와 같다. "
   ]
  },
  {
   "cell_type": "code",
   "execution_count": 51,
   "metadata": {},
   "outputs": [
    {
     "name": "stdout",
     "output_type": "stream",
     "text": [
      "Best Parameter: {'n_neighbors': 1}\n"
     ]
    }
   ],
   "source": [
    "#가장 좋은 결과를 얻는 그리드를 출력함\n",
    "print(\"Best Parameter: {}\".format(grid_search.best_params_))"
   ]
  },
  {
   "cell_type": "code",
   "execution_count": 52,
   "metadata": {},
   "outputs": [
    {
     "name": "stdout",
     "output_type": "stream",
     "text": [
      "Best Cross-validity Score: 0.975\n"
     ]
    }
   ],
   "source": [
    "#grid_search의 최종 스코어를 출력함\n",
    "print(\"Best Cross-validity Score: {:.3f}\".format(grid_search.best_score_))"
   ]
  },
  {
   "cell_type": "code",
   "execution_count": 53,
   "metadata": {},
   "outputs": [
    {
     "name": "stdout",
     "output_type": "stream",
     "text": [
      "Test set Score: 0.833\n"
     ]
    }
   ],
   "source": [
    "#Test 데이터에 대해 grid_search 알고리즘을 적용함\n",
    "print(\"Test set Score: {:.3f}\".format(grid_search.score(X_test, y_test)))"
   ]
  },
  {
   "cell_type": "code",
   "execution_count": 54,
   "metadata": {},
   "outputs": [],
   "source": [
    "result_grid = pd.DataFrame(grid_search.cv_results_)\n",
    "#결과를 데이터 프레임 형태로 저장"
   ]
  },
  {
   "cell_type": "code",
   "execution_count": 55,
   "metadata": {},
   "outputs": [
    {
     "data": {
      "text/html": [
       "<div>\n",
       "<style scoped>\n",
       "    .dataframe tbody tr th:only-of-type {\n",
       "        vertical-align: middle;\n",
       "    }\n",
       "\n",
       "    .dataframe tbody tr th {\n",
       "        vertical-align: top;\n",
       "    }\n",
       "\n",
       "    .dataframe thead th {\n",
       "        text-align: right;\n",
       "    }\n",
       "</style>\n",
       "<table border=\"1\" class=\"dataframe\">\n",
       "  <thead>\n",
       "    <tr style=\"text-align: right;\">\n",
       "      <th></th>\n",
       "      <th>mean_fit_time</th>\n",
       "      <th>std_fit_time</th>\n",
       "      <th>mean_score_time</th>\n",
       "      <th>std_score_time</th>\n",
       "      <th>param_n_neighbors</th>\n",
       "      <th>params</th>\n",
       "      <th>split0_test_score</th>\n",
       "      <th>split1_test_score</th>\n",
       "      <th>split2_test_score</th>\n",
       "      <th>split3_test_score</th>\n",
       "      <th>...</th>\n",
       "      <th>mean_test_score</th>\n",
       "      <th>std_test_score</th>\n",
       "      <th>rank_test_score</th>\n",
       "      <th>split0_train_score</th>\n",
       "      <th>split1_train_score</th>\n",
       "      <th>split2_train_score</th>\n",
       "      <th>split3_train_score</th>\n",
       "      <th>split4_train_score</th>\n",
       "      <th>mean_train_score</th>\n",
       "      <th>std_train_score</th>\n",
       "    </tr>\n",
       "  </thead>\n",
       "  <tbody>\n",
       "    <tr>\n",
       "      <td>0</td>\n",
       "      <td>0.000591</td>\n",
       "      <td>0.000483</td>\n",
       "      <td>0.001596</td>\n",
       "      <td>7.981778e-04</td>\n",
       "      <td>1</td>\n",
       "      <td>{'n_neighbors': 1}</td>\n",
       "      <td>0.961538</td>\n",
       "      <td>1.0</td>\n",
       "      <td>0.956522</td>\n",
       "      <td>0.956522</td>\n",
       "      <td>...</td>\n",
       "      <td>0.975000</td>\n",
       "      <td>0.020498</td>\n",
       "      <td>1</td>\n",
       "      <td>1.000000</td>\n",
       "      <td>1.000000</td>\n",
       "      <td>1.000000</td>\n",
       "      <td>1.000000</td>\n",
       "      <td>1.000000</td>\n",
       "      <td>1.000000</td>\n",
       "      <td>0.000000</td>\n",
       "    </tr>\n",
       "    <tr>\n",
       "      <td>1</td>\n",
       "      <td>0.000199</td>\n",
       "      <td>0.000399</td>\n",
       "      <td>0.001795</td>\n",
       "      <td>3.983749e-04</td>\n",
       "      <td>2</td>\n",
       "      <td>{'n_neighbors': 2}</td>\n",
       "      <td>0.923077</td>\n",
       "      <td>1.0</td>\n",
       "      <td>0.956522</td>\n",
       "      <td>0.913043</td>\n",
       "      <td>...</td>\n",
       "      <td>0.958333</td>\n",
       "      <td>0.036845</td>\n",
       "      <td>6</td>\n",
       "      <td>0.989362</td>\n",
       "      <td>1.000000</td>\n",
       "      <td>1.000000</td>\n",
       "      <td>1.000000</td>\n",
       "      <td>1.000000</td>\n",
       "      <td>0.997872</td>\n",
       "      <td>0.004255</td>\n",
       "    </tr>\n",
       "    <tr>\n",
       "      <td>2</td>\n",
       "      <td>0.000200</td>\n",
       "      <td>0.000399</td>\n",
       "      <td>0.001197</td>\n",
       "      <td>3.989460e-04</td>\n",
       "      <td>3</td>\n",
       "      <td>{'n_neighbors': 3}</td>\n",
       "      <td>0.923077</td>\n",
       "      <td>1.0</td>\n",
       "      <td>0.956522</td>\n",
       "      <td>1.000000</td>\n",
       "      <td>...</td>\n",
       "      <td>0.975000</td>\n",
       "      <td>0.031928</td>\n",
       "      <td>1</td>\n",
       "      <td>0.989362</td>\n",
       "      <td>0.989474</td>\n",
       "      <td>1.000000</td>\n",
       "      <td>0.989691</td>\n",
       "      <td>0.989691</td>\n",
       "      <td>0.991643</td>\n",
       "      <td>0.004180</td>\n",
       "    </tr>\n",
       "    <tr>\n",
       "      <td>3</td>\n",
       "      <td>0.000798</td>\n",
       "      <td>0.000399</td>\n",
       "      <td>0.001397</td>\n",
       "      <td>4.887723e-04</td>\n",
       "      <td>4</td>\n",
       "      <td>{'n_neighbors': 4}</td>\n",
       "      <td>0.923077</td>\n",
       "      <td>1.0</td>\n",
       "      <td>0.913043</td>\n",
       "      <td>1.000000</td>\n",
       "      <td>...</td>\n",
       "      <td>0.958333</td>\n",
       "      <td>0.036845</td>\n",
       "      <td>6</td>\n",
       "      <td>0.989362</td>\n",
       "      <td>0.989474</td>\n",
       "      <td>1.000000</td>\n",
       "      <td>0.989691</td>\n",
       "      <td>0.979381</td>\n",
       "      <td>0.989582</td>\n",
       "      <td>0.006522</td>\n",
       "    </tr>\n",
       "    <tr>\n",
       "      <td>4</td>\n",
       "      <td>0.000798</td>\n",
       "      <td>0.000399</td>\n",
       "      <td>0.001197</td>\n",
       "      <td>3.980877e-04</td>\n",
       "      <td>5</td>\n",
       "      <td>{'n_neighbors': 5}</td>\n",
       "      <td>0.884615</td>\n",
       "      <td>1.0</td>\n",
       "      <td>0.913043</td>\n",
       "      <td>1.000000</td>\n",
       "      <td>...</td>\n",
       "      <td>0.950000</td>\n",
       "      <td>0.046864</td>\n",
       "      <td>9</td>\n",
       "      <td>0.989362</td>\n",
       "      <td>0.978947</td>\n",
       "      <td>0.989691</td>\n",
       "      <td>0.979381</td>\n",
       "      <td>0.989691</td>\n",
       "      <td>0.985414</td>\n",
       "      <td>0.005106</td>\n",
       "    </tr>\n",
       "    <tr>\n",
       "      <td>5</td>\n",
       "      <td>0.000199</td>\n",
       "      <td>0.000399</td>\n",
       "      <td>0.001200</td>\n",
       "      <td>4.042626e-04</td>\n",
       "      <td>6</td>\n",
       "      <td>{'n_neighbors': 6}</td>\n",
       "      <td>0.923077</td>\n",
       "      <td>1.0</td>\n",
       "      <td>0.956522</td>\n",
       "      <td>1.000000</td>\n",
       "      <td>...</td>\n",
       "      <td>0.966667</td>\n",
       "      <td>0.029926</td>\n",
       "      <td>3</td>\n",
       "      <td>0.989362</td>\n",
       "      <td>0.989474</td>\n",
       "      <td>1.000000</td>\n",
       "      <td>1.000000</td>\n",
       "      <td>0.979381</td>\n",
       "      <td>0.991643</td>\n",
       "      <td>0.007745</td>\n",
       "    </tr>\n",
       "    <tr>\n",
       "      <td>6</td>\n",
       "      <td>0.000399</td>\n",
       "      <td>0.000489</td>\n",
       "      <td>0.000798</td>\n",
       "      <td>3.989935e-04</td>\n",
       "      <td>7</td>\n",
       "      <td>{'n_neighbors': 7}</td>\n",
       "      <td>0.884615</td>\n",
       "      <td>1.0</td>\n",
       "      <td>1.000000</td>\n",
       "      <td>1.000000</td>\n",
       "      <td>...</td>\n",
       "      <td>0.966667</td>\n",
       "      <td>0.046215</td>\n",
       "      <td>3</td>\n",
       "      <td>0.989362</td>\n",
       "      <td>1.000000</td>\n",
       "      <td>1.000000</td>\n",
       "      <td>0.989691</td>\n",
       "      <td>0.989691</td>\n",
       "      <td>0.993749</td>\n",
       "      <td>0.005106</td>\n",
       "    </tr>\n",
       "    <tr>\n",
       "      <td>7</td>\n",
       "      <td>0.000399</td>\n",
       "      <td>0.000489</td>\n",
       "      <td>0.000998</td>\n",
       "      <td>1.507891e-07</td>\n",
       "      <td>8</td>\n",
       "      <td>{'n_neighbors': 8}</td>\n",
       "      <td>0.884615</td>\n",
       "      <td>1.0</td>\n",
       "      <td>1.000000</td>\n",
       "      <td>1.000000</td>\n",
       "      <td>...</td>\n",
       "      <td>0.966667</td>\n",
       "      <td>0.046215</td>\n",
       "      <td>3</td>\n",
       "      <td>0.989362</td>\n",
       "      <td>0.989474</td>\n",
       "      <td>0.989691</td>\n",
       "      <td>0.969072</td>\n",
       "      <td>0.979381</td>\n",
       "      <td>0.983396</td>\n",
       "      <td>0.008166</td>\n",
       "    </tr>\n",
       "    <tr>\n",
       "      <td>8</td>\n",
       "      <td>0.000798</td>\n",
       "      <td>0.000399</td>\n",
       "      <td>0.000399</td>\n",
       "      <td>4.886360e-04</td>\n",
       "      <td>9</td>\n",
       "      <td>{'n_neighbors': 9}</td>\n",
       "      <td>0.923077</td>\n",
       "      <td>1.0</td>\n",
       "      <td>0.913043</td>\n",
       "      <td>1.000000</td>\n",
       "      <td>...</td>\n",
       "      <td>0.958333</td>\n",
       "      <td>0.036845</td>\n",
       "      <td>6</td>\n",
       "      <td>0.989362</td>\n",
       "      <td>1.000000</td>\n",
       "      <td>1.000000</td>\n",
       "      <td>0.989691</td>\n",
       "      <td>0.989691</td>\n",
       "      <td>0.993749</td>\n",
       "      <td>0.005106</td>\n",
       "    </tr>\n",
       "    <tr>\n",
       "      <td>9</td>\n",
       "      <td>0.000798</td>\n",
       "      <td>0.000399</td>\n",
       "      <td>0.000997</td>\n",
       "      <td>2.780415e-07</td>\n",
       "      <td>10</td>\n",
       "      <td>{'n_neighbors': 10}</td>\n",
       "      <td>0.923077</td>\n",
       "      <td>1.0</td>\n",
       "      <td>0.956522</td>\n",
       "      <td>1.000000</td>\n",
       "      <td>...</td>\n",
       "      <td>0.950000</td>\n",
       "      <td>0.049043</td>\n",
       "      <td>9</td>\n",
       "      <td>0.978723</td>\n",
       "      <td>1.000000</td>\n",
       "      <td>0.989691</td>\n",
       "      <td>1.000000</td>\n",
       "      <td>0.979381</td>\n",
       "      <td>0.989559</td>\n",
       "      <td>0.009371</td>\n",
       "    </tr>\n",
       "  </tbody>\n",
       "</table>\n",
       "<p>10 rows × 21 columns</p>\n",
       "</div>"
      ],
      "text/plain": [
       "   mean_fit_time  std_fit_time  mean_score_time  std_score_time  \\\n",
       "0       0.000591      0.000483         0.001596    7.981778e-04   \n",
       "1       0.000199      0.000399         0.001795    3.983749e-04   \n",
       "2       0.000200      0.000399         0.001197    3.989460e-04   \n",
       "3       0.000798      0.000399         0.001397    4.887723e-04   \n",
       "4       0.000798      0.000399         0.001197    3.980877e-04   \n",
       "5       0.000199      0.000399         0.001200    4.042626e-04   \n",
       "6       0.000399      0.000489         0.000798    3.989935e-04   \n",
       "7       0.000399      0.000489         0.000998    1.507891e-07   \n",
       "8       0.000798      0.000399         0.000399    4.886360e-04   \n",
       "9       0.000798      0.000399         0.000997    2.780415e-07   \n",
       "\n",
       "  param_n_neighbors               params  split0_test_score  \\\n",
       "0                 1   {'n_neighbors': 1}           0.961538   \n",
       "1                 2   {'n_neighbors': 2}           0.923077   \n",
       "2                 3   {'n_neighbors': 3}           0.923077   \n",
       "3                 4   {'n_neighbors': 4}           0.923077   \n",
       "4                 5   {'n_neighbors': 5}           0.884615   \n",
       "5                 6   {'n_neighbors': 6}           0.923077   \n",
       "6                 7   {'n_neighbors': 7}           0.884615   \n",
       "7                 8   {'n_neighbors': 8}           0.884615   \n",
       "8                 9   {'n_neighbors': 9}           0.923077   \n",
       "9                10  {'n_neighbors': 10}           0.923077   \n",
       "\n",
       "   split1_test_score  split2_test_score  split3_test_score  ...  \\\n",
       "0                1.0           0.956522           0.956522  ...   \n",
       "1                1.0           0.956522           0.913043  ...   \n",
       "2                1.0           0.956522           1.000000  ...   \n",
       "3                1.0           0.913043           1.000000  ...   \n",
       "4                1.0           0.913043           1.000000  ...   \n",
       "5                1.0           0.956522           1.000000  ...   \n",
       "6                1.0           1.000000           1.000000  ...   \n",
       "7                1.0           1.000000           1.000000  ...   \n",
       "8                1.0           0.913043           1.000000  ...   \n",
       "9                1.0           0.956522           1.000000  ...   \n",
       "\n",
       "   mean_test_score  std_test_score  rank_test_score  split0_train_score  \\\n",
       "0         0.975000        0.020498                1            1.000000   \n",
       "1         0.958333        0.036845                6            0.989362   \n",
       "2         0.975000        0.031928                1            0.989362   \n",
       "3         0.958333        0.036845                6            0.989362   \n",
       "4         0.950000        0.046864                9            0.989362   \n",
       "5         0.966667        0.029926                3            0.989362   \n",
       "6         0.966667        0.046215                3            0.989362   \n",
       "7         0.966667        0.046215                3            0.989362   \n",
       "8         0.958333        0.036845                6            0.989362   \n",
       "9         0.950000        0.049043                9            0.978723   \n",
       "\n",
       "   split1_train_score  split2_train_score  split3_train_score  \\\n",
       "0            1.000000            1.000000            1.000000   \n",
       "1            1.000000            1.000000            1.000000   \n",
       "2            0.989474            1.000000            0.989691   \n",
       "3            0.989474            1.000000            0.989691   \n",
       "4            0.978947            0.989691            0.979381   \n",
       "5            0.989474            1.000000            1.000000   \n",
       "6            1.000000            1.000000            0.989691   \n",
       "7            0.989474            0.989691            0.969072   \n",
       "8            1.000000            1.000000            0.989691   \n",
       "9            1.000000            0.989691            1.000000   \n",
       "\n",
       "   split4_train_score  mean_train_score  std_train_score  \n",
       "0            1.000000          1.000000         0.000000  \n",
       "1            1.000000          0.997872         0.004255  \n",
       "2            0.989691          0.991643         0.004180  \n",
       "3            0.979381          0.989582         0.006522  \n",
       "4            0.989691          0.985414         0.005106  \n",
       "5            0.979381          0.991643         0.007745  \n",
       "6            0.989691          0.993749         0.005106  \n",
       "7            0.979381          0.983396         0.008166  \n",
       "8            0.989691          0.993749         0.005106  \n",
       "9            0.979381          0.989559         0.009371  \n",
       "\n",
       "[10 rows x 21 columns]"
      ]
     },
     "execution_count": 55,
     "metadata": {},
     "output_type": "execute_result"
    }
   ],
   "source": [
    "result_grid\n",
    "#각 n_neighbors에 따른 다양한 score 값을 보여줌."
   ]
  },
  {
   "cell_type": "code",
   "execution_count": 56,
   "metadata": {},
   "outputs": [
    {
     "data": {
      "text/plain": [
       "<matplotlib.legend.Legend at 0x1e4f94c5b08>"
      ]
     },
     "execution_count": 56,
     "metadata": {},
     "output_type": "execute_result"
    },
    {
     "data": {
      "image/png": "[encoded data removed]",
      "text/plain": [
       "<Figure size 432x288 with 1 Axes>"
      ]
     },
     "metadata": {
      "needs_background": "light"
     },
     "output_type": "display_data"
    }
   ],
   "source": [
    "plt.plot(result_grid['param_n_neighbors'], result_grid['mean_train_score'], label=\"Train\")\n",
    "plt.plot(result_grid['param_n_neighbors'], result_grid['mean_test_score'], label=\"Test\")\n",
    "plt.legend()"
   ]
  },
  {
   "cell_type": "markdown",
   "metadata": {},
   "source": [
    "- 이웃 수에 따른 train / test set의 mean_score 그래프\n",
    "- 이 그래프를 그리는 이유는 train / test 셋의 score를 같이 확인해봄으로써 모델이 over/under fitting 되진 않았는지 확인해보기 위해서다.\n",
    "- Train 스코어가 항상 더 높은 score을 가지기 때문에 과적합 된 것은 아닌지 생각해 볼 필요가 있다."
   ]
  },
  {
   "cell_type": "markdown",
   "metadata": {},
   "source": [
    "# 3. Evaluation\n",
    "지금까지 진행 한 분석의 결과를 정리하고, 더 좋은 Score 값을 찾는 파라미터의 조합을 연구해보자"
   ]
  },
  {
   "cell_type": "markdown",
   "metadata": {},
   "source": [
    "[현재까지의 상황]\n",
    "1. n_neighbors = 5 / weights = uniform / metric = minkowski  \n",
    "{test set score : 0.86666667}\n",
    "\n",
    "2. n_neighbors = 11 / weights = uniform / metric = euclidean  \n",
    "{model score : 0.992  / test set score : 0.867}\n",
    "\n",
    "3. n_nieghbors = 1 / weights = uniform / metric = minkowski  \n",
    "{model score : 0.975  / test set score : 0.833}\n",
    "\n",
    "==> 파라미터를 더 다양하게 지정해보자\n",
    "metric의 경우 ([이곳](https://scikit-learn.org/stable/modules/generated/sklearn.neighbors.DistanceMetric.html)을 참고하였음)"
   ]
  },
  {
   "cell_type": "code",
   "execution_count": 114,
   "metadata": {},
   "outputs": [],
   "source": [
    "grid_params = {\n",
    "    'n_neighbors' : [1, 2, 3, 4, 5, 6, 7, 10, 11, 13, 15, 17, 20], #이웃 수\n",
    "    'weights' : ['uniform', 'distance'], #가중치 결정 방법\n",
    "    'metric' : ['euclidean', 'manhattan', 'minkowski', 'chebyshev'] #거리계산 방식\n",
    "} # 13 * 2 * 4 = 104개의 조합이 생성된다."
   ]
  },
  {
   "cell_type": "code",
   "execution_count": 130,
   "metadata": {},
   "outputs": [],
   "source": [
    "grid_tn = GridSearchCV(\n",
    "    KNeighborsClassifier(),\n",
    "    grid_params,\n",
    "    verbose = 1,\n",
    "    cv = 3,\n",
    "    n_jobs = -1\n",
    ")"
   ]
  },
  {
   "cell_type": "code",
   "execution_count": 131,
   "metadata": {},
   "outputs": [
    {
     "name": "stdout",
     "output_type": "stream",
     "text": [
      "Fitting 3 folds for each of 104 candidates, totalling 312 fits\n"
     ]
    },
    {
     "name": "stderr",
     "output_type": "stream",
     "text": [
      "[Parallel(n_jobs=-1)]: Using backend LokyBackend with 8 concurrent workers.\n",
      "[Parallel(n_jobs=-1)]: Done 312 out of 312 | elapsed:    0.1s finished\n",
      "C:\\ProgramData\\Anaconda3\\lib\\site-packages\\sklearn\\model_selection\\_search.py:814: DeprecationWarning: The default of the `iid` parameter will change from True to False in version 0.22 and will be removed in 0.24. This will change numeric results when test-set sizes are unequal.\n",
      "  DeprecationWarning)\n"
     ]
    },
    {
     "data": {
      "text/plain": [
       "GridSearchCV(cv=3, error_score='raise-deprecating',\n",
       "             estimator=KNeighborsClassifier(algorithm='auto', leaf_size=30,\n",
       "                                            metric='minkowski',\n",
       "                                            metric_params=None, n_jobs=None,\n",
       "                                            n_neighbors=5, p=2,\n",
       "                                            weights='uniform'),\n",
       "             iid='warn', n_jobs=-1,\n",
       "             param_grid={'metric': ['euclidean', 'manhattan', 'minkowski',\n",
       "                                    'chebyshev'],\n",
       "                         'n_neighbors': [1, 2, 3, 4, 5, 6, 7, 10, 11, 13, 15,\n",
       "                                         17, 20],\n",
       "                         'weights': ['uniform', 'distance']},\n",
       "             pre_dispatch='2*n_jobs', refit=True, return_train_score=False,\n",
       "             scoring=None, verbose=1)"
      ]
     },
     "execution_count": 131,
     "metadata": {},
     "output_type": "execute_result"
    }
   ],
   "source": [
    "grid_tn.fit(X_train, y_train)"
   ]
  },
  {
   "cell_type": "code",
   "execution_count": 132,
   "metadata": {},
   "outputs": [
    {
     "name": "stdout",
     "output_type": "stream",
     "text": [
      "Best Parameter: {'metric': 'euclidean', 'n_neighbors': 10, 'weights': 'uniform'}\n",
      "Best Cross-validity Score: 1.000\n",
      "Test set Score: 0.900\n"
     ]
    }
   ],
   "source": [
    "print(\"Best Parameter: {}\".format(grid_tn.best_params_))\n",
    "print(\"Best Cross-validity Score: {:.3f}\".format(grid_tn.best_score_))\n",
    "print(\"Test set Score: {:.3f}\".format(grid_tn.score(X_test, y_test)))"
   ]
  },
  {
   "cell_type": "markdown",
   "metadata": {},
   "source": [
    "## 결론\n",
    "여러 번의 시도 끝에 찾은 best score는 0.900이었으며 이때의 model score는 1이었다.  \n",
    "train set에서의 모델 스코어가 1이기 때문에 과적합을 우려할 수 있으나 다행히 test set score도 더 높게 나왔다.\n",
    "\n",
    "처음 cv값이 5였을 때에는 아무리해도 위에서 진행했던 score 값보다 낮게 나왔으나\n",
    "cv를 3으로 지정한 후에 겨우 더 높은 값을 찾을 수 있었다.\n",
    "하이퍼 파라미터를 튜닝할 때 이웃 수, 거리계산방식, 가중치계산방식만 고려했었는데 교차검증에 이용되는 fold 값 또한 영향을 줄 수 있다는 사실을 알게 되었다.\n",
    "\n",
    "그래도 마지막에는 더 좋은 값을 찾아서 다행이다.  \n",
    "이후로도 여러 번 조정해가면서 해보았지만 저 스코어 이상의 값을 찾을 수 없었다  \n",
    "만약 있다면.. 어떤 조합인지 알고싶다...\n",
    "\n"
   ]
  }
 ],
 "metadata": {
  "kernelspec": {
   "display_name": "Python 3",
   "language": "python",
   "name": "python3"
  },
  "language_info": {
   "codemirror_mode": {
    "name": "ipython",
    "version": 3
   },
   "file_extension": ".py",
   "mimetype": "text/x-python",
   "name": "python",
   "nbconvert_exporter": "python",
   "pygments_lexer": "ipython3",
   "version": "3.7.4"
  }
 },
 "nbformat": 4,
 "nbformat_minor": 4
}
