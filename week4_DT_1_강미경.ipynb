{
 "cells": [
  {
   "cell_type": "markdown",
   "metadata": {},
   "source": [
    "# DT Assignment1"
   ]
  },
  {
   "cell_type": "markdown",
   "metadata": {},
   "source": [
    "# Data Loading"
   ]
  },
  {
   "cell_type": "code",
   "execution_count": 1,
   "metadata": {},
   "outputs": [],
   "source": [
    "import pandas as pd \n",
    "import numpy as np"
   ]
  },
  {
   "cell_type": "code",
   "execution_count": 2,
   "metadata": {
    "scrolled": true
   },
   "outputs": [],
   "source": [
    "pd_data = pd.read_csv('https://raw.githubusercontent.com/AugustLONG/ML01/master/01decisiontree/AllElectronics.csv')\n",
    "pd_data.drop(\"RID\",axis=1, inplace = True) #RID는 그냥 순서라서 삭제"
   ]
  },
  {
   "cell_type": "code",
   "execution_count": 3,
   "metadata": {},
   "outputs": [
    {
     "data": {
      "text/html": [
       "<div>\n",
       "<style scoped>\n",
       "    .dataframe tbody tr th:only-of-type {\n",
       "        vertical-align: middle;\n",
       "    }\n",
       "\n",
       "    .dataframe tbody tr th {\n",
       "        vertical-align: top;\n",
       "    }\n",
       "\n",
       "    .dataframe thead th {\n",
       "        text-align: right;\n",
       "    }\n",
       "</style>\n",
       "<table border=\"1\" class=\"dataframe\">\n",
       "  <thead>\n",
       "    <tr style=\"text-align: right;\">\n",
       "      <th></th>\n",
       "      <th>age</th>\n",
       "      <th>income</th>\n",
       "      <th>student</th>\n",
       "      <th>credit_rating</th>\n",
       "      <th>class_buys_computer</th>\n",
       "    </tr>\n",
       "  </thead>\n",
       "  <tbody>\n",
       "    <tr>\n",
       "      <th>0</th>\n",
       "      <td>youth</td>\n",
       "      <td>high</td>\n",
       "      <td>no</td>\n",
       "      <td>fair</td>\n",
       "      <td>no</td>\n",
       "    </tr>\n",
       "    <tr>\n",
       "      <th>1</th>\n",
       "      <td>youth</td>\n",
       "      <td>high</td>\n",
       "      <td>no</td>\n",
       "      <td>excellent</td>\n",
       "      <td>no</td>\n",
       "    </tr>\n",
       "    <tr>\n",
       "      <th>2</th>\n",
       "      <td>middle_aged</td>\n",
       "      <td>high</td>\n",
       "      <td>no</td>\n",
       "      <td>fair</td>\n",
       "      <td>yes</td>\n",
       "    </tr>\n",
       "    <tr>\n",
       "      <th>3</th>\n",
       "      <td>senior</td>\n",
       "      <td>medium</td>\n",
       "      <td>no</td>\n",
       "      <td>fair</td>\n",
       "      <td>yes</td>\n",
       "    </tr>\n",
       "    <tr>\n",
       "      <th>4</th>\n",
       "      <td>senior</td>\n",
       "      <td>low</td>\n",
       "      <td>yes</td>\n",
       "      <td>fair</td>\n",
       "      <td>yes</td>\n",
       "    </tr>\n",
       "    <tr>\n",
       "      <th>5</th>\n",
       "      <td>senior</td>\n",
       "      <td>low</td>\n",
       "      <td>yes</td>\n",
       "      <td>excellent</td>\n",
       "      <td>no</td>\n",
       "    </tr>\n",
       "    <tr>\n",
       "      <th>6</th>\n",
       "      <td>middle_aged</td>\n",
       "      <td>low</td>\n",
       "      <td>yes</td>\n",
       "      <td>excellent</td>\n",
       "      <td>yes</td>\n",
       "    </tr>\n",
       "    <tr>\n",
       "      <th>7</th>\n",
       "      <td>youth</td>\n",
       "      <td>medium</td>\n",
       "      <td>no</td>\n",
       "      <td>fair</td>\n",
       "      <td>no</td>\n",
       "    </tr>\n",
       "    <tr>\n",
       "      <th>8</th>\n",
       "      <td>youth</td>\n",
       "      <td>low</td>\n",
       "      <td>yes</td>\n",
       "      <td>fair</td>\n",
       "      <td>yes</td>\n",
       "    </tr>\n",
       "    <tr>\n",
       "      <th>9</th>\n",
       "      <td>senior</td>\n",
       "      <td>medium</td>\n",
       "      <td>yes</td>\n",
       "      <td>fair</td>\n",
       "      <td>yes</td>\n",
       "    </tr>\n",
       "    <tr>\n",
       "      <th>10</th>\n",
       "      <td>youth</td>\n",
       "      <td>medium</td>\n",
       "      <td>yes</td>\n",
       "      <td>excellent</td>\n",
       "      <td>yes</td>\n",
       "    </tr>\n",
       "    <tr>\n",
       "      <th>11</th>\n",
       "      <td>middle_aged</td>\n",
       "      <td>medium</td>\n",
       "      <td>no</td>\n",
       "      <td>excellent</td>\n",
       "      <td>yes</td>\n",
       "    </tr>\n",
       "    <tr>\n",
       "      <th>12</th>\n",
       "      <td>middle_aged</td>\n",
       "      <td>high</td>\n",
       "      <td>yes</td>\n",
       "      <td>fair</td>\n",
       "      <td>yes</td>\n",
       "    </tr>\n",
       "    <tr>\n",
       "      <th>13</th>\n",
       "      <td>senior</td>\n",
       "      <td>medium</td>\n",
       "      <td>no</td>\n",
       "      <td>excellent</td>\n",
       "      <td>no</td>\n",
       "    </tr>\n",
       "  </tbody>\n",
       "</table>\n",
       "</div>"
      ],
      "text/plain": [
       "            age  income student credit_rating class_buys_computer\n",
       "0         youth    high      no          fair                  no\n",
       "1         youth    high      no     excellent                  no\n",
       "2   middle_aged    high      no          fair                 yes\n",
       "3        senior  medium      no          fair                 yes\n",
       "4        senior     low     yes          fair                 yes\n",
       "5        senior     low     yes     excellent                  no\n",
       "6   middle_aged     low     yes     excellent                 yes\n",
       "7         youth  medium      no          fair                  no\n",
       "8         youth     low     yes          fair                 yes\n",
       "9        senior  medium     yes          fair                 yes\n",
       "10        youth  medium     yes     excellent                 yes\n",
       "11  middle_aged  medium      no     excellent                 yes\n",
       "12  middle_aged    high     yes          fair                 yes\n",
       "13       senior  medium      no     excellent                  no"
      ]
     },
     "execution_count": 3,
     "metadata": {},
     "output_type": "execute_result"
    }
   ],
   "source": [
    "pd_data"
   ]
  },
  {
   "cell_type": "markdown",
   "metadata": {},
   "source": [
    "# 1. Gini 계수를 구하는 함수 만들기"
   ]
  },
  {
   "cell_type": "markdown",
   "metadata": {},
   "source": [
    "- Input: df(데이터), label(타겟변수명)\n",
    "- 해당 결과는 아래와 같이 나와야 합니다."
   ]
  },
  {
   "cell_type": "code",
   "execution_count": 16,
   "metadata": {},
   "outputs": [],
   "source": [
    "def get_gini(df, label):\n",
    "    \n",
    "    at_class = df[label].value_counts() #전달받은 데이터프레임의 index, value 출력 (at_class :: attribute의 class라는 뜻)\n",
    "    \n",
    "    if len(at_class) == 1: #yes or no 중 하나가 없는 경우의 예외처리 ex) yes만 있는 데이터의 경우 temp['no']는 존재하지 않는 값이 되기 때문에 0으로 처리해주기 위함.\n",
    "        if at_class.index == 'yes': #yes or no 중 하나가 없는 상황 중 존재하는 게 yes일 때\n",
    "            at_class['no'] = 0 # temp['no']값을 0으로 처리해줌.\n",
    "        else: #yes or no 중 하나가 없는 상황 중 존재하는 게 no일 때\n",
    "            at_class['yes'] = 0 # temp['yes'] 값을 0으로 처리해줌.\n",
    "    \n",
    "    gini = 1 - (pow(at_class['yes']/len(df), 2)) - (pow(at_class['no']/len(df), 2)) # Gini(Di)계산\n",
    "    \n",
    "    return gini"
   ]
  },
  {
   "cell_type": "code",
   "execution_count": 17,
   "metadata": {},
   "outputs": [
    {
     "data": {
      "text/plain": [
       "0.4591836734693877"
      ]
     },
     "execution_count": 17,
     "metadata": {},
     "output_type": "execute_result"
    }
   ],
   "source": [
    "get_gini(pd_data,'class_buys_computer')"
   ]
  },
  {
   "cell_type": "markdown",
   "metadata": {},
   "source": [
    "# 2. Feature의 Class를 이진 분류로 만들기\n",
    " ## ex) {A,B,C} -> ({A}, {B,C}), ({B}, {A,C}), ({C}, {A,B})"
   ]
  },
  {
   "cell_type": "markdown",
   "metadata": {},
   "source": [
    "- Input: df(데이터), attribute(Gini index를 구하고자 하는 변수명)\n",
    "- 해당 결과는 아래와 같이 나와야 합니다."
   ]
  },
  {
   "cell_type": "code",
   "execution_count": 20,
   "metadata": {},
   "outputs": [],
   "source": [
    "import itertools # 변수의 모든 클래시 조합을 얻기 위해 itertools 불러오기\n",
    "def get_binary_split(df, attribute): \n",
    "    result = [] #결과를 받을 리스트 정의\n",
    "    at_class = df[attribute].value_counts().index #temp는 클래스의 인덱스를 리스트 형태로 반환받음. ex) 'age'의 경우 'youth', 'middle_aged', 'senior'\n",
    "    \n",
    "    for i in range(1, len(at_class)): #조합은 클래스의 개수-1의 기준으로 생성됨. ex) class가 4개라면 하나(A, B, C, D), 둘(AB, CD,...) 셋(ABC, BCD...) 개의 조합이 생성\n",
    "        at_list = list(itertools.combinations(at_class, i)) #i개를 기준으로 하는 조합을 생성하고 t_list에 리스트 형태로 반환\n",
    "        \n",
    "        for i in range(len(at_list)): #이때 at_list는 각 조합에 대해 튜플 형태로 저장되어 있기 때문에 이를 하나 하나 받아 리스트형태로 반환하여 result에 저장\n",
    "            result.append(list(at_list[i]))\n",
    "    \n",
    "    return result"
   ]
  },
  {
   "cell_type": "code",
   "execution_count": 21,
   "metadata": {},
   "outputs": [
    {
     "data": {
      "text/plain": [
       "[['senior'],\n",
       " ['youth'],\n",
       " ['middle_aged'],\n",
       " ['senior', 'youth'],\n",
       " ['senior', 'middle_aged'],\n",
       " ['youth', 'middle_aged']]"
      ]
     },
     "execution_count": 21,
     "metadata": {},
     "output_type": "execute_result"
    }
   ],
   "source": [
    "get_binary_split(pd_data, \"age\")"
   ]
  },
  {
   "cell_type": "markdown",
   "metadata": {},
   "source": [
    "# 3. 다음은 모든 이진분류의 경우의 Gini index를 구하는 함수 만들기\n",
    "- 위에서 완성한 두 함수를 사용하여 만들어주세요!\n",
    "- 해당 결과는 아래와 같이 나와야 합니다.\n",
    "- 결과로 나온 Dictionary의 Key 값은 해당 class 들로 이루어진 tuple 형태로 들어가 있습니다."
   ]
  },
  {
   "cell_type": "code",
   "execution_count": 8,
   "metadata": {},
   "outputs": [],
   "source": [
    "def get_attribute_gini_index(df, attribute, label):\n",
    "    \n",
    "    result = get_binary_split(df, attribute) #attribute의 모든 클래스의 조합을 함수로부터 반환받음.\n",
    "    at_class = df[attribute].value_counts().index #attribute의 클래스 정보 ex) 'age'의 경우 'youth', 'middle_aged', 'senior'\n",
    "    res = {} #결과를 저장할 사전형 함수 선언\n",
    "    \n",
    "    for i in range(len(result)): #result에 저장되어 있는 모든 클래스의 조합에 대해 한번씩 돌자\n",
    "    \n",
    "        comple_result = at_class.drop(result[i]) #result[i]를 제외한 조합을 반환  ex)'age'의 'youth'가 result[i]로 들어온 경우 comple_result = ['middle_aged', 'senior']\n",
    "        \n",
    "        q_data = df[df[attribute].isin(result[i])] #reesult[i] 조합에 대해 필터링한 데이터 셋        \n",
    "        p_data = df[df[attribute].isin(comple_result)] #위에서 구한 result[i]를 제외한 나머지 comple_result 조합에 대해 필터링한 데이터 셋   \n",
    "        \n",
    "        gini_num1 = get_gini(q_data, label) # result[i]에 대한 지니계수       \n",
    "        num1 = len(q_data) / len(df) #그때의 weight\n",
    "        \n",
    "        gini_num2 = get_gini(p_data, label) # comple_result에 대한 지니계수\n",
    "        num2 = len(p_data) / len(df) #그때의 weight\n",
    "        \n",
    "        gini_index = gini_num1 * num1 + gini_num2 * num2 #최종 :: 지니계수!!\n",
    "        res.update({tuple(result[i]) : gini_index}) #이를 결과를 저장할 사전형 변수에 key, value 형태로 저장해주자\n",
    "        \n",
    "    return res"
   ]
  },
  {
   "cell_type": "code",
   "execution_count": 9,
   "metadata": {},
   "outputs": [
    {
     "data": {
      "text/plain": [
       "{('senior',): 0.4571428571428572,\n",
       " ('youth',): 0.3936507936507937,\n",
       " ('middle_aged',): 0.35714285714285715,\n",
       " ('senior', 'youth'): 0.35714285714285715,\n",
       " ('senior', 'middle_aged'): 0.3936507936507937,\n",
       " ('youth', 'middle_aged'): 0.4571428571428572}"
      ]
     },
     "execution_count": 9,
     "metadata": {},
     "output_type": "execute_result"
    }
   ],
   "source": [
    "get_attribute_gini_index(pd_data, \"age\", \"class_buys_computer\")\n",
    "# v ^---------^ v "
   ]
  },
  {
   "cell_type": "markdown",
   "metadata": {},
   "source": [
    "여기서 가장 작은 Gini index값을 가지는 class를 기준으로 split해야겠죠?\n",
    "\n",
    "결과를 확인해보도록 하겠습니다."
   ]
  },
  {
   "cell_type": "code",
   "execution_count": 10,
   "metadata": {},
   "outputs": [
    {
     "name": "stdout",
     "output_type": "stream",
     "text": [
      "Min - ('middle_aged',) : 0.35714285714285715\n"
     ]
    }
   ],
   "source": [
    "my_dict = get_attribute_gini_index(pd_data, \"age\", \"class_buys_computer\")\n",
    "key_min = min(my_dict.keys(), key=(lambda k: my_dict[k]))\n",
    "print('Min -',key_min, \":\", my_dict[key_min])"
   ]
  },
  {
   "cell_type": "markdown",
   "metadata": {},
   "source": [
    "# 다음의 문제를 위에서 작성한 함수를 통해 구한 값으로 보여주세요!\n",
    "## 문제1) 변수 ‘income’의 이진분류 결과를 보여주세요.\n",
    "\n",
    "## 문제2) 분류를 하는 데 가장 중요한 변수를 선정하고, 해당 변수의 Gini index를 제시해주세요.\n",
    "\n",
    "## 문제3) 문제 2에서 제시한 feature로 DataFrame을 split한 후 나눠진 2개의 DataFrame에서 각각   다음으로 중요한 변수를 선정하고 해당 변수의 Gini index를 제시해주세요."
   ]
  },
  {
   "cell_type": "code",
   "execution_count": 25,
   "metadata": {},
   "outputs": [
    {
     "name": "stdout",
     "output_type": "stream",
     "text": [
      "('high',)\n",
      "Min - ('high',) : 0.4428571428571429\n"
     ]
    }
   ],
   "source": [
    "##문제1 답안\n",
    "income = get_attribute_gini_index(pd_data, \"income\", \"class_buys_computer\")\n",
    "key_min = min(income.keys(), key=(lambda k: income[k])) #key_min :: 최솟값의 key값\n",
    "print('Min -',key_min, \":\", income[key_min]) #high로 나누는 것이 가장 좋아 보입니다."
   ]
  },
  {
   "cell_type": "code",
   "execution_count": 46,
   "metadata": {},
   "outputs": [
    {
     "name": "stdout",
     "output_type": "stream",
     "text": [
      "<각 Feature에 대한 Min-GiniIndex> \n",
      " {('high',): 0.4428571428571429, ('middle_aged',): 0.35714285714285715, ('yes',): 0.3673469387755103, ('fair',): 0.42857142857142855}\n",
      "\n",
      "\n",
      "Min - ('middle_aged',) : 0.35714285714285715\n"
     ]
    }
   ],
   "source": [
    "##문제2 답안\n",
    "income = get_attribute_gini_index(pd_data, \"income\", \"class_buys_computer\")\n",
    "key_income = min(income.keys(), key=(lambda k: income[k]))\n",
    "\n",
    "age = get_attribute_gini_index(pd_data, \"age\", \"class_buys_computer\")\n",
    "key_age = min(age.keys(), key=(lambda k: age[k]))\n",
    "\n",
    "student = get_attribute_gini_index(pd_data, \"student\", \"class_buys_computer\")\n",
    "key_student = min(student.keys(), key=(lambda k: student[k]))\n",
    "\n",
    "credit_rating = get_attribute_gini_index(pd_data, \"credit_rating\", \"class_buys_computer\")\n",
    "key_credit = min(credit_rating.keys(), key=(lambda k: credit_rating[k]))\n",
    "\n",
    "imp = {key_income : income[key_income],\n",
    "       key_age : age[key_age],\n",
    "       key_student : student[key_student],\n",
    "       key_credit : credit_rating[key_credit]}\n",
    "\n",
    "print(\"<각 Feature에 대한 Min-GiniIndex> \\n\", imp)\n",
    "print(\"\\n\")\n",
    "\n",
    "key_min = min(imp.keys(), key=(lambda k: imp[k]))\n",
    "print('Min -',key_min, \":\", imp[key_min]) \n",
    "#가장 중요한 변수는 age이며 이 중에서도 middle_aged로 나누었을 때 가장 작은 값인 것을 알 수 있다."
   ]
  },
  {
   "cell_type": "code",
   "execution_count": 57,
   "metadata": {
    "scrolled": true
   },
   "outputs": [
    {
     "name": "stdout",
     "output_type": "stream",
     "text": [
      "Middle_aged : \n",
      "             age  income student credit_rating class_buys_computer\n",
      "2   middle_aged    high      no          fair                 yes\n",
      "6   middle_aged     low     yes     excellent                 yes\n",
      "11  middle_aged  medium      no     excellent                 yes\n",
      "12  middle_aged    high     yes          fair                 yes\n",
      "\n",
      "\n",
      "Senior & Youth : \n",
      "        age  income student credit_rating class_buys_computer\n",
      "0    youth    high      no          fair                  no\n",
      "1    youth    high      no     excellent                  no\n",
      "3   senior  medium      no          fair                 yes\n",
      "4   senior     low     yes          fair                 yes\n",
      "5   senior     low     yes     excellent                  no\n",
      "7    youth  medium      no          fair                  no\n",
      "8    youth     low     yes          fair                 yes\n",
      "9   senior  medium     yes          fair                 yes\n",
      "10   youth  medium     yes     excellent                 yes\n",
      "13  senior  medium      no     excellent                  no\n"
     ]
    }
   ],
   "source": [
    "##문제3 답안\n",
    "middle_data = pd_data[pd_data['age'].isin(['middle_aged'])] #middle_aged만 있는 데이터 셋      \n",
    "comple_data = pd_data[pd_data['age'].isin(['senior', 'youth'])] #middle_aged 이외의 나머지가 있는 데이터 셋\n",
    "\n",
    "print(\"Middle_aged : \\n\", middle_data)\n",
    "print(\"\\n\")\n",
    "print(\"Senior & Youth : \\n\", comple_data)"
   ]
  },
  {
   "cell_type": "code",
   "execution_count": 65,
   "metadata": {},
   "outputs": [
    {
     "name": "stdout",
     "output_type": "stream",
     "text": [
      "<각 Feature에 대한 Min-GiniIndex> \n",
      " {('high',): 0.0, ('yes',): 0.0, ('excellent',): 0.0}\n",
      "\n",
      "\n",
      "Min - ('high',) : 0.0\n"
     ]
    }
   ],
   "source": [
    "#Middle_age를 또 뭐로 나누어 볼까?\n",
    "income = get_attribute_gini_index(middle_data, \"income\", \"class_buys_computer\")\n",
    "key_income = min(income.keys(), key=(lambda k: income[k]))\n",
    "\n",
    "student = get_attribute_gini_index(middle_data, \"student\", \"class_buys_computer\")\n",
    "key_student = min(student.keys(), key=(lambda k: student[k]))\n",
    "\n",
    "credit_rating = get_attribute_gini_index(middle_data, \"credit_rating\", \"class_buys_computer\")\n",
    "key_credit = min(credit_rating.keys(), key=(lambda k: credit_rating[k]))\n",
    "\n",
    "imp = {key_income : income[key_income],\n",
    "       key_student : student[key_student],\n",
    "       key_credit : credit_rating[key_credit]}\n",
    "\n",
    "print(\"<각 Feature에 대한 Min-GiniIndex> \\n\", imp)\n",
    "print(\"\\n\")\n",
    "\n",
    "key_min = min(imp.keys(), key=(lambda k: imp[k]))\n",
    "print('Min -',key_min, \":\", imp[key_min]) \n",
    "#middle_aged로 나눈 데이터 셋의 target이 모두 yes이므로 지니계수도 다 0\n",
    "#더 이상 분할할 것이 없다!!"
   ]
  },
  {
   "cell_type": "code",
   "execution_count": 66,
   "metadata": {},
   "outputs": [
    {
     "name": "stdout",
     "output_type": "stream",
     "text": [
      "<각 Feature에 대한 Min-GiniIndex> \n",
      " {('high',): 0.375, ('senior',): 0.48, ('yes',): 0.31999999999999984, ('fair',): 0.4166666666666667}\n",
      "\n",
      "\n",
      "Min - ('yes',) : 0.31999999999999984\n"
     ]
    }
   ],
   "source": [
    "#Senior & Youth 를 또 뭐로 나누어 볼까?\n",
    "income = get_attribute_gini_index(comple_data, \"income\", \"class_buys_computer\")\n",
    "key_income = min(income.keys(), key=(lambda k: income[k]))\n",
    "\n",
    "age = get_attribute_gini_index(comple_data, \"age\", \"class_buys_computer\")\n",
    "key_age = min(age.keys(), key=(lambda k: age[k]))\n",
    "\n",
    "student = get_attribute_gini_index(comple_data, \"student\", \"class_buys_computer\")\n",
    "key_student = min(student.keys(), key=(lambda k: student[k]))\n",
    "\n",
    "credit_rating = get_attribute_gini_index(comple_data, \"credit_rating\", \"class_buys_computer\")\n",
    "key_credit = min(credit_rating.keys(), key=(lambda k: credit_rating[k]))\n",
    "\n",
    "imp = {key_income : income[key_income],\n",
    "       key_age : age[key_age],\n",
    "       key_student : student[key_student],\n",
    "       key_credit : credit_rating[key_credit]}\n",
    "\n",
    "print(\"<각 Feature에 대한 Min-GiniIndex> \\n\", imp)\n",
    "print(\"\\n\")\n",
    "\n",
    "key_min = min(imp.keys(), key=(lambda k: imp[k]))\n",
    "print('Min -',key_min, \":\", imp[key_min]) \n",
    "#가장 중요한 변수는 age이며 이 중에서도 middle_aged로 나누었을 때 가장 작은 값인 것을 알 수 있다."
   ]
  },
  {
   "cell_type": "markdown",
   "metadata": {},
   "source": [
    "#### 문제3 답안 :  \n",
    "Senior & YOuth 데이터 셋은 다음 분할 시 Student로 나누는 것이 가장 바람직하다"
   ]
  },
  {
   "cell_type": "code",
   "execution_count": null,
   "metadata": {},
   "outputs": [],
   "source": []
  }
 ],
 "metadata": {
  "kernelspec": {
   "display_name": "Python 3",
   "language": "python",
   "name": "python3"
  },
  "language_info": {
   "codemirror_mode": {
    "name": "ipython",
    "version": 3
   },
   "file_extension": ".py",
   "mimetype": "text/x-python",
   "name": "python",
   "nbconvert_exporter": "python",
   "pygments_lexer": "ipython3",
   "version": "3.7.6"
  }
 },
 "nbformat": 4,
 "nbformat_minor": 4
}
