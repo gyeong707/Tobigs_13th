{
 "cells": [
  {
   "cell_type": "markdown",
   "metadata": {},
   "source": [
    "# 안녕하세요 투빅스 보충 과제입니다 :)\n",
    "\n",
    "안녕하세요 투빅스 12기 김태한입니다 :)\n",
    "\n",
    "이번 과제는 코로나 바이러스로 예상치 못한 휴식시간이 생겨 여러분의 딥러닝 감을 유지하고자 드리게 되었습니다.  \n",
    "\n",
    "투빅이분들이라면 분명 쉽게 해낼거라 믿습니다!!\n",
    "\n",
    "\n",
    "모르시는 거 있으시면 저 그리고 12기 멘토분들을 많이 많이 괴롭혀주세요!!!"
   ]
  },
  {
   "cell_type": "markdown",
   "metadata": {},
   "source": [
    "# Assignment 1"
   ]
  },
  {
   "cell_type": "markdown",
   "metadata": {},
   "source": [
    "여러분들은 저번 과제로 뉴럴넷 구현을 이미 한번 하셨습니다!  \n",
    "\n",
    "사실 이번 과제의 최종 목적도 뉴럴넷 구현인데요 이미 한번 하셨고 실력들이 워낙 출중하셔서 금방금방 하실수 있으실거에요.  \n",
    "\n",
    "구현에 바로 들어가기에 앞서 전체 네트워크 구조와 각 구성요소의 행렬 차원 및 오차역전파(back propagation) 복습이 1번 과제입니다.  \n",
    "\n",
    "**?** 에 들어갈 수식을 채워주시면 됩니다!!  "
   ]
  },
  {
   "cell_type": "markdown",
   "metadata": {},
   "source": [
    "## Matrix Shape 정리\n",
    "\n",
    "n : sample_data 수  \n",
    "d : input_dimension  \n",
    "h : hidden_layer_dimension  \n",
    "c : output_dimension  \n",
    "\n",
    "X : input_data  \n",
    "W1 : layer1_weight  \n",
    "b1 : layer1_bias  \n",
    "H : X*W1+b1  \n",
    "A : activation function 거친 value  \n",
    "W2 : layer2_weight  \n",
    "b2 : layer2_bias  \n",
    "S : A*W2+b2  \n",
    "P : softmax 거친 value  \n",
    "\n",
    "**X==(n,d)  \n",
    "W1==(d,h) 채워주세요  \n",
    "b1==(h,)  \n",
    "H==(n,h) 채워주세요  \n",
    "A==(n,h)  \n",
    "W2==(h,c)  \n",
    "b2==(,c) 채워주세요  \n",
    "S==(n,c) 채워주세요  \n",
    "P==(n,c)**"
   ]
  },
  {
   "cell_type": "markdown",
   "metadata": {},
   "source": [
    "## Matrix 미분 정리\n",
    "$H = XW+b　　　(n,h) = (n,d)x(d,h)+(h,)$  \n",
    "$L = f(H)$  \n",
    "$\\frac{\\partial L}{\\partial W} = \\frac{\\partial H}{\\partial W} \\times \\frac{\\partial L}{\\partial H} = X^{T}\\frac{\\partial L}{\\partial H}$ 　채워주세요  \n",
    "$\\frac{\\partial L}{\\partial X} = \\frac{\\partial L}{\\partial H} \\times \\frac{\\partial H}{\\partial X} = \\frac{\\partial L}{\\partial H}W^{T}$ 　채워주세요  \n",
    "$\\frac{\\partial L}{\\partial b} = 1*\\frac{\\partial L}{\\partial H}$  "
   ]
  },
  {
   "cell_type": "markdown",
   "metadata": {},
   "source": [
    "## 2Layers Chain Rule 정리\n",
    "**Forward** \n",
    "\n",
    "$H = XW_{1} + b$  \n",
    "$A = ReLU(H)$  \n",
    "$S = AW_{2} + b_{2}$  \n",
    "$P = Softmax(S)$  \n",
    "$L = -LogLikelihood(P)$\n",
    "\n",
    "\n",
    "**Backward**\n",
    "\n",
    "$\\frac{\\partial L}{\\partial S} = P-T$　:　T는 Label  \n",
    "$\\frac{\\partial L}{\\partial W_{2}} = \\frac{\\partial S}{\\partial W_{2}}\\frac{\\partial L}{\\partial S} = A^{T}(P-T)$ 채워주세요  \n",
    "$\\frac{\\partial L}{\\partial b_{2}} = 1*\\frac{\\partial L}{\\partial S} = P-T$  \n",
    "$\\frac{\\partial L}{\\partial A} = \\frac{\\partial L}{\\partial S}\\frac{\\partial S}{\\partial A} = (P-T)W_{2}^{T} $채워주세요  \n",
    "$\\frac{\\partial L}{\\partial H} = \\frac{\\partial A}{\\partial H}\\frac{\\partial L}{\\partial A}$  \n",
    "$\\frac{\\partial L}{\\partial W_{1}} = \\frac{\\partial H}{\\partial W_{1}}\\frac{\\partial L}{\\partial H} = X^{T}\\frac{\\partial L}{\\partial H}$  \n",
    "$\\frac{\\partial L}{\\partial b_{1}} = \\frac{\\partial L}{\\partial H}$  "
   ]
  },
  {
   "cell_type": "markdown",
   "metadata": {},
   "source": [
    "# Assignment 2"
   ]
  },
  {
   "cell_type": "markdown",
   "metadata": {},
   "source": [
    "같이 드린 파일중 model.py라는 파일이 있을거에요!!!  \n",
    "그 친구의 빈칸을 채워주시면 되겠습니다~!!  \n",
    "model.py의 함수는 assignment3의 모델 만들기에서 사용되니 참고하시면서 채워주시면 도움이 될거에요!"
   ]
  },
  {
   "cell_type": "markdown",
   "metadata": {},
   "source": [
    "# Assignment 3"
   ]
  },
  {
   "cell_type": "markdown",
   "metadata": {},
   "source": [
    "자 이제 저희가 구현한 모델을 가지고 한번 cifar-10 dataset을 학습해볼게요!!  \n",
    "근데 시작하기에 앞서 pip install keras 를 해주세요!!  \n",
    "\n",
    "3번과제의 목적은 하이퍼파라미터를 튜닝하던 다른방법을 사용하던 해서 마지막에 그림그리기에서 높은 validation accuracy가 나오도록 하는 과제입니다!!  \n",
    "\n",
    "모델을 2층이아니라 본인만의 3층으로 발전시켜도 좋구요 다른 여러가지 방법들이 있겠죠!?!?!?  \n",
    "\n",
    "가장 높은 validation accuracy를 뽑으신 분께 상품을 드리겠습니다아~!!!"
   ]
  },
  {
   "cell_type": "markdown",
   "metadata": {},
   "source": [
    "### 데이터 load\n",
    "\n",
    "keras 프레임워크를 이용하여 데이터를 로드해 옵니다.  \n",
    "32*32*3차원의 데이터를 3072차원으로 바꾸는 것 까지 해드릴게요.\n",
    "필요하면 sklearn.preprocessing의 scaler를 사용해보셔도 좋습니다!"
   ]
  },
  {
   "cell_type": "code",
   "execution_count": 15,
   "metadata": {},
   "outputs": [],
   "source": [
    "# pip install keras"
   ]
  },
  {
   "cell_type": "code",
   "execution_count": 16,
   "metadata": {},
   "outputs": [],
   "source": [
    "from keras.datasets import cifar10\n",
    "import numpy as np\n",
    "from Model import TwoLayerNet\n",
    "from matplotlib import pyplot as plt"
   ]
  },
  {
   "cell_type": "code",
   "execution_count": 17,
   "metadata": {},
   "outputs": [],
   "source": [
    "(x_train, y_train), (x_test, y_test) = cifar10.load_data()"
   ]
  },
  {
   "cell_type": "code",
   "execution_count": 18,
   "metadata": {},
   "outputs": [],
   "source": [
    "def preprocessing_data(x_train, x_test, y_train, y_test):\n",
    "    #change dtype\n",
    "    x_train = np.array(x_train, dtype=np.float64)\n",
    "    x_test = np.array(x_test, dtype=np.float64)\n",
    "    \n",
    "    #reshaping\n",
    "    x_train = np.reshape(x_train, (x_train.shape[0], -1))\n",
    "    x_test = np.reshape(x_test, (x_test.shape[0], -1))\n",
    "    \n",
    "    y_train = np.reshape(y_train, (y_train.shape[0],))\n",
    "    y_test = np.reshape(y_test, (y_test.shape[0],))\n",
    "        \n",
    "    #normalizing\n",
    "    mean_value = np.mean(x_train, axis=0)\n",
    "    x_train -= mean_value\n",
    "    x_test -= mean_value\n",
    "    \n",
    "    return x_train, x_test, y_train, y_test"
   ]
  },
  {
   "cell_type": "code",
   "execution_count": 19,
   "metadata": {},
   "outputs": [
    {
     "name": "stdout",
     "output_type": "stream",
     "text": [
      "120.70756512369792\n",
      "64.1500758911213\n"
     ]
    }
   ],
   "source": [
    "print(np.mean(x_train))\n",
    "print(np.std(x_train))"
   ]
  },
  {
   "cell_type": "code",
   "execution_count": 20,
   "metadata": {},
   "outputs": [],
   "source": [
    "x_train, x_test, y_train, y_test = preprocessing_data(x_train, x_test, y_train, y_test)"
   ]
  },
  {
   "cell_type": "code",
   "execution_count": 21,
   "metadata": {},
   "outputs": [
    {
     "name": "stdout",
     "output_type": "stream",
     "text": [
      "(50000, 3072)\n",
      "(10000, 3072)\n",
      "(50000,)\n",
      "(10000,)\n"
     ]
    }
   ],
   "source": [
    "print(x_train.shape)\n",
    "print(x_test.shape)\n",
    "print(y_train.shape)\n",
    "print(y_test.shape)"
   ]
  },
  {
   "cell_type": "code",
   "execution_count": 22,
   "metadata": {},
   "outputs": [
    {
     "name": "stdout",
     "output_type": "stream",
     "text": [
      "6.856358443959228e-15\n",
      "63.48399818751155\n"
     ]
    }
   ],
   "source": [
    "print(np.mean(x_train))\n",
    "print(np.std(x_train))"
   ]
  },
  {
   "cell_type": "markdown",
   "metadata": {},
   "source": [
    "데이터가 너무 많아서 5000개랑 1000개만 사용해보도록 할게요"
   ]
  },
  {
   "cell_type": "code",
   "execution_count": 7,
   "metadata": {},
   "outputs": [],
   "source": [
    "x_train = x_train[:5000]\n",
    "y_train = y_train[:5000]\n",
    "x_test = x_test[:1000]\n",
    "y_test = y_test[:1000]"
   ]
  },
  {
   "cell_type": "markdown",
   "metadata": {},
   "source": [
    "### 데이터 확인\n",
    "\n",
    "실제 데이터가 어떻게 생겼는지 한번 봅시다"
   ]
  },
  {
   "cell_type": "code",
   "execution_count": 8,
   "metadata": {},
   "outputs": [
    {
     "data": {
      "text/plain": [
       "array([[ -71.71074,  -74.05614,  -69.5538 , ...,   -3.63908,  -33.8503 ,\n",
       "         -42.38186],\n",
       "       [  23.28926,   40.94386,   54.4462 , ...,   16.36092,    7.1497 ,\n",
       "          29.61814],\n",
       "       [ 124.28926,  118.94386,  122.4462 , ...,  -46.63908,  -39.8503 ,\n",
       "         -30.38186],\n",
       "       ...,\n",
       "       [  36.28926,   26.94386,   12.4462 , ...,  -84.63908,  -47.8503 ,\n",
       "         -30.38186],\n",
       "       [  23.28926,   15.94386,   -7.5538 , ...,   67.36092,  121.1497 ,\n",
       "          -0.38186],\n",
       "       [ -85.71074, -104.05614, -111.5538 , ...,   29.36092,   16.1497 ,\n",
       "         -14.38186]])"
      ]
     },
     "execution_count": 8,
     "metadata": {},
     "output_type": "execute_result"
    }
   ],
   "source": [
    "x_train"
   ]
  },
  {
   "cell_type": "code",
   "execution_count": 9,
   "metadata": {},
   "outputs": [
    {
     "data": {
      "text/plain": [
       "array([3, 8, 8, 0, 6, 6, 1, 6, 3, 1, 0, 9, 5, 7, 9, 8, 5, 7, 8, 6, 7, 0,\n",
       "       4, 9, 5, 2, 4, 0, 9, 6, 6, 5, 4, 5, 9, 2, 4, 1, 9, 5, 4, 6, 5, 6,\n",
       "       0, 9, 3, 9, 7, 6, 9, 8, 0, 3, 8, 8, 7, 7, 4, 6, 7, 3, 6, 3, 6, 2,\n",
       "       1, 2, 3, 7, 2, 6, 8, 8, 0, 2, 9, 3, 3, 8, 8, 1, 1, 7, 2, 5, 2, 7,\n",
       "       8, 9, 0, 3, 8, 6, 4, 6, 6, 0, 0, 7, 4, 5, 6, 3, 1, 1, 3, 6, 8, 7,\n",
       "       4, 0, 6, 2, 1, 3, 0, 4, 2, 7, 8, 3, 1, 2, 8, 0, 8, 3, 5, 2, 4, 1,\n",
       "       8, 9, 1, 2, 9, 7, 2, 9, 6, 5, 6, 3, 8, 7, 6, 2, 5, 2, 8, 9, 6, 0,\n",
       "       0, 5, 2, 9, 5, 4, 2, 1, 6, 6, 8, 4, 8, 4, 5, 0, 9, 9, 9, 8, 9, 9,\n",
       "       3, 7, 5, 0, 0, 5, 2, 2, 3, 8, 6, 3, 4, 0, 5, 8, 0, 1, 7, 2, 8, 8,\n",
       "       7, 8, 5, 1, 8, 7, 1, 3, 0, 5, 7, 9, 7, 4, 5, 9, 8, 0, 7, 9, 8, 2,\n",
       "       7, 6, 9, 4, 3, 9, 6, 4, 7, 6, 5, 1, 5, 8, 8, 0, 4, 0, 5, 5, 1, 1,\n",
       "       8, 9, 0, 3, 1, 9, 2, 2, 5, 3, 9, 9, 4, 0, 3, 0, 0, 9, 8, 1, 5, 7,\n",
       "       0, 8, 2, 4, 7, 0, 2, 3, 6, 3, 8, 5, 0, 3, 4, 3, 9, 0, 6, 1, 0, 9,\n",
       "       1, 0, 7, 9, 1, 2, 6, 9, 3, 4, 6, 0, 0, 6, 6, 6, 3, 2, 6, 1, 8, 2,\n",
       "       1, 6, 8, 6, 8, 0, 4, 0, 7, 7, 5, 5, 3, 5, 2, 3, 4, 1, 7, 5, 4, 6,\n",
       "       1, 9, 3, 6, 6, 9, 3, 8, 0, 7, 2, 6, 2, 5, 8, 5, 4, 6, 8, 9, 9, 1,\n",
       "       0, 2, 2, 7, 3, 2, 8, 0, 9, 5, 8, 1, 9, 4, 1, 3, 8, 1, 4, 7, 9, 4,\n",
       "       2, 7, 0, 7, 0, 6, 6, 9, 0, 9, 2, 8, 7, 2, 2, 5, 1, 2, 6, 2, 9, 6,\n",
       "       2, 3, 0, 3, 9, 8, 7, 8, 8, 4, 0, 1, 8, 2, 7, 9, 3, 6, 1, 9, 0, 7,\n",
       "       3, 7, 4, 5, 0, 0, 2, 9, 3, 4, 0, 6, 2, 5, 3, 7, 3, 7, 2, 5, 3, 1,\n",
       "       1, 4, 9, 9, 5, 7, 5, 0, 2, 2, 2, 9, 7, 3, 9, 4, 3, 5, 4, 6, 5, 6,\n",
       "       1, 4, 3, 4, 4, 3, 7, 8, 3, 7, 8, 0, 5, 7, 6, 0, 5, 4, 8, 6, 8, 5,\n",
       "       5, 9, 9, 9, 5, 0, 1, 0, 8, 1, 1, 8, 0, 2, 2, 0, 4, 6, 5, 4, 9, 4,\n",
       "       7, 9, 9, 4, 5, 6, 6, 1, 5, 3, 8, 9, 5, 8, 5, 7, 0, 7, 0, 5, 0, 0,\n",
       "       4, 6, 9, 0, 9, 5, 6, 6, 6, 2, 9, 0, 1, 7, 6, 7, 5, 9, 1, 6, 2, 5,\n",
       "       5, 5, 8, 5, 9, 4, 6, 4, 3, 2, 0, 7, 6, 2, 2, 3, 9, 7, 9, 2, 6, 7,\n",
       "       1, 3, 6, 6, 8, 9, 7, 5, 4, 0, 8, 4, 0, 9, 3, 4, 8, 9, 6, 9, 2, 6,\n",
       "       1, 4, 7, 3, 5, 3, 8, 5, 0, 2, 1, 6, 4, 3, 3, 9, 6, 9, 8, 8, 5, 8,\n",
       "       6, 6, 2, 1, 7, 7, 1, 2, 7, 9, 9, 4, 4, 1, 2, 5, 6, 8, 7, 6, 8, 3,\n",
       "       0, 5, 5, 3, 0, 7, 9, 1, 3, 4, 4, 5, 3, 9, 5, 6, 9, 2, 1, 1, 4, 1,\n",
       "       9, 4, 7, 6, 3, 8, 9, 0, 1, 3, 6, 3, 6, 3, 2, 0, 3, 1, 0, 5, 9, 6,\n",
       "       4, 8, 9, 6, 9, 6, 3, 0, 3, 2, 2, 7, 8, 3, 8, 2, 7, 5, 7, 2, 4, 8,\n",
       "       7, 4, 2, 9, 8, 8, 6, 8, 8, 7, 4, 3, 3, 8, 4, 9, 4, 8, 8, 1, 8, 2,\n",
       "       1, 3, 6, 5, 4, 2, 7, 9, 9, 4, 1, 4, 1, 3, 2, 7, 0, 7, 9, 7, 6, 6,\n",
       "       2, 5, 9, 2, 9, 1, 2, 2, 6, 8, 2, 1, 3, 6, 6, 0, 1, 2, 7, 0, 5, 4,\n",
       "       6, 1, 6, 4, 0, 2, 2, 6, 0, 5, 9, 1, 7, 6, 7, 0, 3, 9, 6, 8, 3, 0,\n",
       "       3, 4, 7, 7, 1, 4, 7, 2, 7, 1, 4, 7, 4, 4, 8, 4, 7, 7, 5, 3, 7, 2,\n",
       "       0, 8, 9, 5, 8, 3, 6, 2, 0, 8, 7, 3, 7, 6, 5, 3, 1, 3, 2, 2, 5, 4,\n",
       "       1, 2, 9, 2, 7, 0, 7, 2, 1, 3, 2, 0, 2, 4, 7, 9, 8, 9, 0, 7, 7, 0,\n",
       "       7, 8, 4, 6, 3, 3, 0, 1, 3, 7, 0, 1, 3, 1, 4, 2, 3, 8, 4, 2, 3, 7,\n",
       "       8, 4, 3, 0, 9, 0, 0, 1, 0, 4, 4, 6, 7, 6, 1, 1, 3, 7, 3, 5, 2, 6,\n",
       "       6, 5, 8, 7, 1, 6, 8, 8, 5, 3, 0, 4, 0, 1, 3, 8, 8, 0, 6, 9, 9, 9,\n",
       "       5, 5, 8, 6, 0, 0, 4, 2, 3, 2, 7, 2, 2, 5, 9, 8, 9, 1, 7, 4, 0, 3,\n",
       "       0, 1, 3, 8, 3, 9, 6, 1, 4, 7, 0, 3, 7, 8, 9, 1, 1, 6, 6, 6, 6, 9,\n",
       "       1, 9, 9, 4, 2, 1, 7, 0, 6, 8, 1, 9, 2, 9, 0, 4, 7, 8, 3, 1, 2, 0,\n",
       "       1, 5, 8, 4, 6, 3, 8, 1, 3, 8])"
      ]
     },
     "execution_count": 9,
     "metadata": {},
     "output_type": "execute_result"
    }
   ],
   "source": [
    "y_test"
   ]
  },
  {
   "cell_type": "markdown",
   "metadata": {},
   "source": [
    "### 하이퍼파라미터 설정\n",
    "\n",
    "이제 하이퍼파라미터를 설정해볼게요.  \n",
    "hidden_size, epoch_size, batch_size, learning_rate등은 전부 하이퍼 파라미터이니 바꾸면서 도전해보세요!!"
   ]
  },
  {
   "cell_type": "code",
   "execution_count": 10,
   "metadata": {},
   "outputs": [],
   "source": [
    "input_size = 32 * 32 * 3\n",
    "hidden_size = 52\n",
    "output_size = 10\n",
    "epoch_size = 1000\n",
    "batch_size = 500\n",
    "learning_rate = 0.001\n",
    "N = x_train.shape[0]"
   ]
  },
  {
   "cell_type": "markdown",
   "metadata": {},
   "source": [
    "### 모델 만들기\n",
    "\n",
    "input_size, hidden_size, output_size는 데이터에 맞게 잘 설정해주세요."
   ]
  },
  {
   "cell_type": "code",
   "execution_count": 11,
   "metadata": {},
   "outputs": [],
   "source": [
    "batch_mask = np.random.choice(N, batch_size) #이번 배치에서 쓸 데이터들 인덱스 추출\n",
    "x_batch = x_train[batch_mask]"
   ]
  },
  {
   "cell_type": "code",
   "execution_count": 12,
   "metadata": {},
   "outputs": [],
   "source": [
    "nn = TwoLayerNet(x_batch, input_size=input_size, hidden_size=hidden_size, output_size=output_size)"
   ]
  },
  {
   "cell_type": "code",
   "execution_count": 13,
   "metadata": {},
   "outputs": [
    {
     "name": "stdout",
     "output_type": "stream",
     "text": [
      "0 test accuracy : 0.103\n",
      "0 test loss     : 2565.2233339899785\n",
      "10 test accuracy : 0.103\n",
      "10 test loss     : 2559.729293035173\n",
      "20 test accuracy : 0.103\n",
      "20 test loss     : 2541.274092134231\n",
      "30 test accuracy : 0.103\n",
      "30 test loss     : 2443.6022863114476\n",
      "40 test accuracy : 0.157\n",
      "40 test loss     : 2249.732011510557\n",
      "50 test accuracy : 0.208\n",
      "50 test loss     : 2175.332524741226\n",
      "60 test accuracy : 0.216\n",
      "60 test loss     : 2141.5458907262077\n",
      "70 test accuracy : 0.227\n",
      "70 test loss     : 2108.854865142753\n",
      "80 test accuracy : 0.243\n",
      "80 test loss     : 2076.8639051258665\n",
      "90 test accuracy : 0.248\n",
      "90 test loss     : 2049.183544216428\n",
      "100 test accuracy : 0.254\n",
      "100 test loss     : 2025.534417120931\n",
      "110 test accuracy : 0.266\n",
      "110 test loss     : 2004.7081063828869\n",
      "120 test accuracy : 0.27\n",
      "120 test loss     : 1986.998053346683\n",
      "130 test accuracy : 0.277\n",
      "130 test loss     : 1971.9551801887617\n",
      "140 test accuracy : 0.282\n",
      "140 test loss     : 1958.0304727081452\n",
      "150 test accuracy : 0.293\n",
      "150 test loss     : 1944.8275315887888\n",
      "160 test accuracy : 0.299\n",
      "160 test loss     : 1932.363735313641\n",
      "170 test accuracy : 0.312\n",
      "170 test loss     : 1919.3879014439208\n",
      "180 test accuracy : 0.316\n",
      "180 test loss     : 1905.8150871812866\n",
      "190 test accuracy : 0.319\n",
      "190 test loss     : 1892.858782541838\n",
      "200 test accuracy : 0.32\n",
      "200 test loss     : 1879.055873667777\n",
      "210 test accuracy : 0.321\n",
      "210 test loss     : 1867.6862982182163\n",
      "220 test accuracy : 0.326\n",
      "220 test loss     : 1856.4266573373293\n",
      "230 test accuracy : 0.334\n",
      "230 test loss     : 1847.16968394842\n",
      "240 test accuracy : 0.34\n",
      "240 test loss     : 1838.8168854526511\n",
      "250 test accuracy : 0.347\n",
      "250 test loss     : 1830.7645426981233\n",
      "260 test accuracy : 0.348\n",
      "260 test loss     : 1823.5927904546556\n",
      "270 test accuracy : 0.347\n",
      "270 test loss     : 1818.2007724094713\n",
      "280 test accuracy : 0.348\n",
      "280 test loss     : 1812.9308271501473\n",
      "290 test accuracy : 0.351\n",
      "290 test loss     : 1805.8565171552862\n",
      "300 test accuracy : 0.352\n",
      "300 test loss     : 1801.2291678228364\n",
      "310 test accuracy : 0.35\n",
      "310 test loss     : 1795.5304061839408\n",
      "320 test accuracy : 0.355\n",
      "320 test loss     : 1792.6302286363368\n",
      "330 test accuracy : 0.359\n",
      "330 test loss     : 1785.6830478885975\n",
      "340 test accuracy : 0.367\n",
      "340 test loss     : 1780.2297109111792\n",
      "350 test accuracy : 0.362\n",
      "350 test loss     : 1777.4351218446875\n",
      "360 test accuracy : 0.368\n",
      "360 test loss     : 1771.8822032584953\n",
      "370 test accuracy : 0.368\n",
      "370 test loss     : 1769.510276172\n",
      "380 test accuracy : 0.377\n",
      "380 test loss     : 1765.2237933970148\n",
      "390 test accuracy : 0.376\n",
      "390 test loss     : 1760.9037784202126\n",
      "400 test accuracy : 0.381\n",
      "400 test loss     : 1754.7001955290425\n",
      "410 test accuracy : 0.374\n",
      "410 test loss     : 1750.7876984423858\n",
      "420 test accuracy : 0.376\n",
      "420 test loss     : 1747.5645896022436\n",
      "430 test accuracy : 0.379\n",
      "430 test loss     : 1744.5630347594604\n",
      "440 test accuracy : 0.378\n",
      "440 test loss     : 1740.9942074731587\n",
      "450 test accuracy : 0.376\n",
      "450 test loss     : 1737.5523339467395\n",
      "460 test accuracy : 0.378\n",
      "460 test loss     : 1733.9668533452957\n",
      "470 test accuracy : 0.377\n",
      "470 test loss     : 1732.819280217158\n",
      "480 test accuracy : 0.379\n",
      "480 test loss     : 1730.1748811640982\n",
      "490 test accuracy : 0.374\n",
      "490 test loss     : 1727.0930811973883\n",
      "500 test accuracy : 0.377\n",
      "500 test loss     : 1725.3032893481043\n",
      "510 test accuracy : 0.379\n",
      "510 test loss     : 1721.0862793009724\n",
      "520 test accuracy : 0.378\n",
      "520 test loss     : 1717.5461303468153\n",
      "530 test accuracy : 0.387\n",
      "530 test loss     : 1715.6502478279972\n",
      "540 test accuracy : 0.381\n",
      "540 test loss     : 1714.860027715571\n",
      "550 test accuracy : 0.377\n",
      "550 test loss     : 1710.4052606582313\n",
      "560 test accuracy : 0.378\n",
      "560 test loss     : 1708.0372299098133\n",
      "570 test accuracy : 0.383\n",
      "570 test loss     : 1705.2655884069977\n",
      "580 test accuracy : 0.387\n",
      "580 test loss     : 1702.202369469132\n",
      "590 test accuracy : 0.381\n",
      "590 test loss     : 1702.037289469675\n",
      "600 test accuracy : 0.387\n",
      "600 test loss     : 1698.706901914652\n",
      "610 test accuracy : 0.393\n",
      "610 test loss     : 1697.0417142068468\n",
      "620 test accuracy : 0.386\n",
      "620 test loss     : 1695.9287737072077\n",
      "630 test accuracy : 0.383\n",
      "630 test loss     : 1695.366855955135\n",
      "640 test accuracy : 0.385\n",
      "640 test loss     : 1693.3636956440296\n",
      "650 test accuracy : 0.385\n",
      "650 test loss     : 1693.5748364775714\n",
      "660 test accuracy : 0.385\n",
      "660 test loss     : 1691.4472709379693\n",
      "670 test accuracy : 0.387\n",
      "670 test loss     : 1692.6331768877455\n",
      "680 test accuracy : 0.387\n",
      "680 test loss     : 1690.3152932657017\n",
      "690 test accuracy : 0.384\n",
      "690 test loss     : 1689.1395783994637\n",
      "700 test accuracy : 0.387\n",
      "700 test loss     : 1689.5579508131405\n",
      "710 test accuracy : 0.392\n",
      "710 test loss     : 1688.5459882868902\n",
      "720 test accuracy : 0.385\n",
      "720 test loss     : 1689.2955110345883\n",
      "730 test accuracy : 0.394\n",
      "730 test loss     : 1686.8039491435304\n",
      "740 test accuracy : 0.388\n",
      "740 test loss     : 1686.753102316158\n",
      "750 test accuracy : 0.393\n",
      "750 test loss     : 1688.2086315358524\n",
      "760 test accuracy : 0.385\n",
      "760 test loss     : 1687.9245090907643\n",
      "770 test accuracy : 0.388\n",
      "770 test loss     : 1686.693716078603\n",
      "780 test accuracy : 0.393\n",
      "780 test loss     : 1687.325087782111\n",
      "790 test accuracy : 0.389\n",
      "790 test loss     : 1688.2278007230027\n",
      "800 test accuracy : 0.392\n",
      "800 test loss     : 1686.1675090542642\n",
      "810 test accuracy : 0.395\n",
      "810 test loss     : 1686.6326849221095\n",
      "820 test accuracy : 0.39\n",
      "820 test loss     : 1684.5725698336141\n",
      "830 test accuracy : 0.407\n",
      "830 test loss     : 1686.3592928320613\n",
      "840 test accuracy : 0.4\n",
      "840 test loss     : 1686.0705608098272\n",
      "850 test accuracy : 0.395\n",
      "850 test loss     : 1687.3772849030452\n",
      "860 test accuracy : 0.403\n",
      "860 test loss     : 1688.4501619268383\n",
      "870 test accuracy : 0.404\n",
      "870 test loss     : 1688.7736760865355\n",
      "880 test accuracy : 0.406\n",
      "880 test loss     : 1688.7523841339816\n",
      "890 test accuracy : 0.404\n",
      "890 test loss     : 1690.4548062267481\n",
      "900 test accuracy : 0.403\n",
      "900 test loss     : 1693.2523442878494\n",
      "910 test accuracy : 0.404\n",
      "910 test loss     : 1692.1195081405083\n",
      "920 test accuracy : 0.405\n",
      "920 test loss     : 1693.8660948967645\n",
      "930 test accuracy : 0.409\n",
      "930 test loss     : 1693.9162044369552\n",
      "940 test accuracy : 0.406\n",
      "940 test loss     : 1694.019964574033\n",
      "950 test accuracy : 0.402\n",
      "950 test loss     : 1694.8511661190666\n",
      "960 test accuracy : 0.41\n",
      "960 test loss     : 1696.5943339042042\n",
      "970 test accuracy : 0.409\n",
      "970 test loss     : 1698.0028117654485\n",
      "980 test accuracy : 0.408\n",
      "980 test loss     : 1700.760119001612\n",
      "990 test accuracy : 0.408\n",
      "990 test loss     : 1701.1323508770483\n"
     ]
    }
   ],
   "source": [
    "history = {'val_acc': [],'val_loss': []} #기록해서 그림 그리자!\n",
    "\n",
    "#코드를 보며 epoch, batch에 대해서 이해해봅시다.\n",
    "for i in range(epoch_size):\n",
    "    for j in range(N//batch_size):\n",
    "        batch_mask = np.random.choice(N, batch_size) #이번 배치에서 쓸 데이터들 인덱스 추출\n",
    "        x_batch = x_train[batch_mask]\n",
    "        t_batch = y_train[batch_mask]\n",
    "        \n",
    "        nn.backward(x_batch, t_batch, 1e-7) # 가중치 갱신\n",
    "    \n",
    "    #accuracy와 loss를 기록해둡시다.\n",
    "    history[\"val_acc\"].append(nn.accuracy(x_test, y_test))\n",
    "    history[\"val_loss\"].append(nn.forward(x_test, y_test))\n",
    "    \n",
    "    if i % 10 == 0:\n",
    "        print(i, \"test accuracy :\", nn.accuracy(x_test, y_test))\n",
    "        print(i, \"test loss     :\", nn.forward(x_test, y_test))"
   ]
  },
  {
   "cell_type": "markdown",
   "metadata": {},
   "source": [
    "### 그림 그리기"
   ]
  },
  {
   "cell_type": "code",
   "execution_count": 14,
   "metadata": {},
   "outputs": [
    {
     "data": {
      "image/png": "[encoded data removed]",
      "text/plain": [
       "<Figure size 432x288 with 2 Axes>"
      ]
     },
     "metadata": {
      "needs_background": "light"
     },
     "output_type": "display_data"
    },
    {
     "name": "stdout",
     "output_type": "stream",
     "text": [
      "나의 최고 validation loss :  0.413\n"
     ]
    }
   ],
   "source": [
    "fig = plt.figure()\n",
    "ax_acc = fig.add_subplot(111)\n",
    "\n",
    "ax_acc.plot(range(epoch_size), history['val_acc'], label='정확도(%)', color='darkred')\n",
    "#plt.text(3, 14.7, \"<----------------정확도(%)\", verticalalignment='top', horizontalalignment='right')\n",
    "plt.xlabel('epochs')\n",
    "plt.ylabel('Validation Accuracy(%)')\n",
    "ax_acc.grid(linestyle='--', color='lavender')\n",
    "ax_loss = ax_acc.twinx()\n",
    "ax_loss.plot(range(epoch_size), history['val_loss'], label='오차', color='darkblue')\n",
    "#plt.text(3, 2.2, \"<----------------오차\", verticalalignment='top', horizontalalignment='left')\n",
    "plt.ylabel('Validation Error')\n",
    "ax_loss.yaxis.tick_right()\n",
    "ax_loss.grid(linestyle='--', color='lavender')\n",
    "\n",
    "# 그래프 표시\n",
    "plt.show()\n",
    "\n",
    "# 나의 최고 validation accuracy는? 두구두구~\n",
    "print(\"나의 최고 validation loss : \",max(history['val_acc']))"
   ]
  },
  {
   "cell_type": "code",
   "execution_count": null,
   "metadata": {},
   "outputs": [],
   "source": []
  },
  {
   "cell_type": "code",
   "execution_count": null,
   "metadata": {},
   "outputs": [],
   "source": []
  },
  {
   "cell_type": "code",
   "execution_count": null,
   "metadata": {},
   "outputs": [],
   "source": []
  },
  {
   "cell_type": "code",
   "execution_count": null,
   "metadata": {},
   "outputs": [],
   "source": []
  }
 ],
 "metadata": {
  "kernelspec": {
   "display_name": "Python 3",
   "language": "python",
   "name": "python3"
  },
  "language_info": {
   "codemirror_mode": {
    "name": "ipython",
    "version": 3
   },
   "file_extension": ".py",
   "mimetype": "text/x-python",
   "name": "python",
   "nbconvert_exporter": "python",
   "pygments_lexer": "ipython3",
   "version": "3.7.6"
  }
 },
 "nbformat": 4,
 "nbformat_minor": 4
}
