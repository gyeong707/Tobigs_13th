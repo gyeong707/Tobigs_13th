{
 "cells": [
  {
   "cell_type": "markdown",
   "metadata": {},
   "source": [
    "## AlexNet - Keras로 구현하기"
   ]
  },
  {
   "cell_type": "code",
   "execution_count": 2,
   "metadata": {},
   "outputs": [],
   "source": [
    "import tensorflow as tf\n",
    "from tensorflow import keras\n",
    "from tensorflow.keras import layers\n",
    "from tensorflow.keras import datasets "
   ]
  },
  {
   "cell_type": "code",
   "execution_count": 3,
   "metadata": {},
   "outputs": [
    {
     "name": "stdout",
     "output_type": "stream",
     "text": [
      "2.0.0 2.3.1\n"
     ]
    }
   ],
   "source": [
    "import tensorflow, keras\n",
    "print(tensorflow.__version__, keras.__version__)"
   ]
  },
  {
   "cell_type": "markdown",
   "metadata": {},
   "source": [
    "개념은 [이곳](https://bskyvision.com/421)\n",
    "코드는 [이곳](https://sensibilityit.tistory.com/504)을 참고하여 작성하였습니다."
   ]
  },
  {
   "cell_type": "markdown",
   "metadata": {},
   "source": [
    "## AlexNet\n",
    "0. 2012년 ILSVRC (Large Scale Visual Recognition Competition) 이라는 대회에서 등장. CNN이 본격적을로 주목받게 되는 계기가 되었음.\n",
    "\n",
    "1. 5개의 Convolution 레이어와 3개의 Fully Connected Layer로 구성되어 있다. 마지막은 소프트맥스 함수를 사용하여 예측을 한다.\n",
    "\n",
    "2. 활성함수로는 Relu를 사용하는데, 이 경우 양수 방향으로 무한히 커질 가능성이 있기 때문에 중간에 LRN(Local Resoponse Normalization)으로 정규화과정을 수행한다. "
   ]
  },
  {
   "cell_type": "code",
   "execution_count": 17,
   "metadata": {},
   "outputs": [],
   "source": [
    "inputs = layers.Input((227,227,3))\n",
    "\n",
    "#First Convolution layer\n",
    "conv1 = layers.Conv2D(filters=96, kernel_size=(11, 11), strides=4, padding='valid', activation='relu')(inputs)\n",
    "pool1 = layers.MaxPooling2D(pool_size=3, strides=2, padding=\"valid\")(conv1)\n",
    "norm1 = tf.nn.local_response_normalization(pool1, depth_radius=5, bias=1.0, alpha=1, beta=0.5)\n",
    "\n",
    "#Second Convolution layer\n",
    "conv2 = layers.Conv2D(filters=256, kernel_size=(5, 5), strides=1, padding='SAME', activation='relu')(norm1)\n",
    "pool2 = layers.MaxPooling2D(pool_size=3, strides=2)(conv2)\n",
    "norm2 = tf.nn.local_response_normalization(pool2, depth_radius=5, bias=1.0, alpha=1, beta=0.5)\n",
    "\n",
    "#Third Convolution layer\n",
    "conv3 = layers.Conv2D(filters=384, kernel_size=(3, 3), strides=1, padding='SAME', activation='relu')(norm2)\n",
    "\n",
    "#Four Convolution layer\n",
    "conv4 = layers.Conv2D(filters=384, kernel_size=(3, 3), strides=1, padding='SAME', activation='relu')(conv3)\n",
    "\n",
    "#Fifth Convolution layer\n",
    "conv5 = layers.Conv2D(filters=256, kernel_size=(3, 3), strides=1, padding='SAME', activation='relu')(conv4)\n",
    "pool5 = layers.MaxPooling2D(pool_size=(3, 3), strides=2)(conv5)\n",
    "norm5 = tf.nn.local_response_normalization(pool5, depth_radius=5, bias=1.0, alpha=1, beta=0.5)\n",
    "\n",
    "\n",
    "#Fully Connected Layer\n",
    "flat = layers.Flatten()(norm5)\n",
    "dense1 = layers.Dense(4096, activation='relu')(flat)\n",
    "dense2 = layers.Dense(4096, activation='relu')(dense1)\n",
    "dense3 = layers.Dense(1000)(dense2)\n",
    "softmax = layers.Activation('softmax')(dense3)\n",
    "\n",
    "\n",
    "model = tf.keras.Model(inputs=inputs, outputs=softmax, name='AlexNet')"
   ]
  },
  {
   "cell_type": "code",
   "execution_count": 18,
   "metadata": {},
   "outputs": [
    {
     "name": "stdout",
     "output_type": "stream",
     "text": [
      "Model: \"AlexNet\"\n",
      "_________________________________________________________________\n",
      "Layer (type)                 Output Shape              Param #   \n",
      "=================================================================\n",
      "input_8 (InputLayer)         [(None, 227, 227, 3)]     0         \n",
      "_________________________________________________________________\n",
      "conv2d_31 (Conv2D)           (None, 55, 55, 96)        34944     \n",
      "_________________________________________________________________\n",
      "max_pooling2d_18 (MaxPooling (None, 27, 27, 96)        0         \n",
      "_________________________________________________________________\n",
      "tf_op_layer_LRN_18 (TensorFl [(None, 27, 27, 96)]      0         \n",
      "_________________________________________________________________\n",
      "conv2d_32 (Conv2D)           (None, 27, 27, 256)       614656    \n",
      "_________________________________________________________________\n",
      "max_pooling2d_19 (MaxPooling (None, 13, 13, 256)       0         \n",
      "_________________________________________________________________\n",
      "tf_op_layer_LRN_19 (TensorFl [(None, 13, 13, 256)]     0         \n",
      "_________________________________________________________________\n",
      "conv2d_33 (Conv2D)           (None, 13, 13, 384)       885120    \n",
      "_________________________________________________________________\n",
      "conv2d_34 (Conv2D)           (None, 13, 13, 384)       1327488   \n",
      "_________________________________________________________________\n",
      "conv2d_35 (Conv2D)           (None, 13, 13, 256)       884992    \n",
      "_________________________________________________________________\n",
      "max_pooling2d_20 (MaxPooling (None, 6, 6, 256)         0         \n",
      "_________________________________________________________________\n",
      "tf_op_layer_LRN_20 (TensorFl [(None, 6, 6, 256)]       0         \n",
      "_________________________________________________________________\n",
      "flatten_6 (Flatten)          (None, 9216)              0         \n",
      "_________________________________________________________________\n",
      "dense_18 (Dense)             (None, 4096)              37752832  \n",
      "_________________________________________________________________\n",
      "dense_19 (Dense)             (None, 4096)              16781312  \n",
      "_________________________________________________________________\n",
      "dense_20 (Dense)             (None, 1000)              4097000   \n",
      "_________________________________________________________________\n",
      "activation_6 (Activation)    (None, 1000)              0         \n",
      "=================================================================\n",
      "Total params: 62,378,344\n",
      "Trainable params: 62,378,344\n",
      "Non-trainable params: 0\n",
      "_________________________________________________________________\n"
     ]
    }
   ],
   "source": [
    "model.summary()"
   ]
  },
  {
   "cell_type": "markdown",
   "metadata": {},
   "source": [
    "앞서 CNN1에서 구한 파라미터의 개수 그대로 레이어가 진행되고 있으며 마지막 Total params의 값 또한 같다.\n"
   ]
  },
  {
   "cell_type": "code",
   "execution_count": null,
   "metadata": {},
   "outputs": [],
   "source": []
  }
 ],
 "metadata": {
  "kernelspec": {
   "display_name": "Python 3",
   "language": "python",
   "name": "python3"
  },
  "language_info": {
   "codemirror_mode": {
    "name": "ipython",
    "version": 3
   },
   "file_extension": ".py",
   "mimetype": "text/x-python",
   "name": "python",
   "nbconvert_exporter": "python",
   "pygments_lexer": "ipython3",
   "version": "3.7.6"
  }
 },
 "nbformat": 4,
 "nbformat_minor": 4
}
